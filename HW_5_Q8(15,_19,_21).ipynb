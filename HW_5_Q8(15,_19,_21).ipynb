{
  "nbformat": 4,
  "nbformat_minor": 0,
  "metadata": {
    "colab": {
      "name": "HW#5_Q8(15, 19, 21).ipynb",
      "provenance": [],
      "mount_file_id": "1tL_0i-Wd_ddjFquI8pgbBeJenUJ7Tw5t",
      "authorship_tag": "ABX9TyNEwY0OpTx1shKW71XXxABZ",
      "include_colab_link": true
    },
    "kernelspec": {
      "name": "python3",
      "display_name": "Python 3"
    }
  },
  "cells": [
    {
      "cell_type": "markdown",
      "metadata": {
        "id": "view-in-github",
        "colab_type": "text"
      },
      "source": [
        "<a href=\"https://colab.research.google.com/github/ajdduck/UOS_LinearRegression/blob/master/HW_5_Q8(15%2C_19%2C_21).ipynb\" target=\"_parent\"><img src=\"https://colab.research.google.com/assets/colab-badge.svg\" alt=\"Open In Colab\"/></a>"
      ]
    },
    {
      "cell_type": "code",
      "metadata": {
        "id": "KsqZmtifE9GZ",
        "colab_type": "code",
        "outputId": "bc0316f3-2ae3-4b18-b0cc-96bded41b93c",
        "colab": {
          "base_uri": "https://localhost:8080/",
          "height": 71
        }
      },
      "source": [
        "import statsmodels.api as sm\n",
        "import pandas as pd\n",
        "import matplotlib.pyplot as plt\n",
        "import scipy.stats\n",
        "import math"
      ],
      "execution_count": 0,
      "outputs": [
        {
          "output_type": "stream",
          "text": [
            "/usr/local/lib/python3.6/dist-packages/statsmodels/tools/_testing.py:19: FutureWarning: pandas.util.testing is deprecated. Use the functions in the public API at pandas.testing instead.\n",
            "  import pandas.util.testing as tm\n"
          ],
          "name": "stderr"
        }
      ]
    },
    {
      "cell_type": "code",
      "metadata": {
        "id": "PKkCtWtHFOYS",
        "colab_type": "code",
        "colab": {}
      },
      "source": [
        "df = pd.read_csv(\"/content/drive/My Drive/CH01PR20.txt\", names=['Y', 'X1'])"
      ],
      "execution_count": 0,
      "outputs": []
    },
    {
      "cell_type": "code",
      "metadata": {
        "id": "pB3pf8JWFZyI",
        "colab_type": "code",
        "colab": {}
      },
      "source": [
        "df_quality = pd.read_csv(\"/content/drive/My Drive/copier_maintenance_additional.txt\", names = [\"X2\"])"
      ],
      "execution_count": 0,
      "outputs": []
    },
    {
      "cell_type": "code",
      "metadata": {
        "id": "nd56IPMlFxIN",
        "colab_type": "code",
        "outputId": "089fae4c-497a-49dd-e4bf-34519b510fd9",
        "colab": {
          "base_uri": "https://localhost:8080/",
          "height": 204
        }
      },
      "source": [
        "df = pd.concat([df, df_quality], axis=1)\n",
        "df.head()"
      ],
      "execution_count": 0,
      "outputs": [
        {
          "output_type": "execute_result",
          "data": {
            "text/html": [
              "<div>\n",
              "<style scoped>\n",
              "    .dataframe tbody tr th:only-of-type {\n",
              "        vertical-align: middle;\n",
              "    }\n",
              "\n",
              "    .dataframe tbody tr th {\n",
              "        vertical-align: top;\n",
              "    }\n",
              "\n",
              "    .dataframe thead th {\n",
              "        text-align: right;\n",
              "    }\n",
              "</style>\n",
              "<table border=\"1\" class=\"dataframe\">\n",
              "  <thead>\n",
              "    <tr style=\"text-align: right;\">\n",
              "      <th></th>\n",
              "      <th>Y</th>\n",
              "      <th>X1</th>\n",
              "      <th>X2</th>\n",
              "    </tr>\n",
              "  </thead>\n",
              "  <tbody>\n",
              "    <tr>\n",
              "      <th>0</th>\n",
              "      <td>20</td>\n",
              "      <td>2</td>\n",
              "      <td>1</td>\n",
              "    </tr>\n",
              "    <tr>\n",
              "      <th>1</th>\n",
              "      <td>60</td>\n",
              "      <td>4</td>\n",
              "      <td>0</td>\n",
              "    </tr>\n",
              "    <tr>\n",
              "      <th>2</th>\n",
              "      <td>46</td>\n",
              "      <td>3</td>\n",
              "      <td>0</td>\n",
              "    </tr>\n",
              "    <tr>\n",
              "      <th>3</th>\n",
              "      <td>41</td>\n",
              "      <td>2</td>\n",
              "      <td>0</td>\n",
              "    </tr>\n",
              "    <tr>\n",
              "      <th>4</th>\n",
              "      <td>12</td>\n",
              "      <td>1</td>\n",
              "      <td>0</td>\n",
              "    </tr>\n",
              "  </tbody>\n",
              "</table>\n",
              "</div>"
            ],
            "text/plain": [
              "    Y  X1  X2\n",
              "0  20   2   1\n",
              "1  60   4   0\n",
              "2  46   3   0\n",
              "3  41   2   0\n",
              "4  12   1   0"
            ]
          },
          "metadata": {
            "tags": []
          },
          "execution_count": 4
        }
      ]
    },
    {
      "cell_type": "code",
      "metadata": {
        "id": "Ks2F0B6EGhce",
        "colab_type": "code",
        "outputId": "076a6d25-cbda-4162-bce6-48943c4ac161",
        "colab": {
          "base_uri": "https://localhost:8080/",
          "height": 465
        }
      },
      "source": [
        "y = df['Y']\n",
        "X = df[['X1', 'X2']]\n",
        "\n",
        "X = sm.add_constant(X)\n",
        "\n",
        "model = sm.OLS(y, X)\n",
        "results = model.fit()\n",
        "\n",
        "results.summary()"
      ],
      "execution_count": 0,
      "outputs": [
        {
          "output_type": "execute_result",
          "data": {
            "text/html": [
              "<table class=\"simpletable\">\n",
              "<caption>OLS Regression Results</caption>\n",
              "<tr>\n",
              "  <th>Dep. Variable:</th>            <td>Y</td>        <th>  R-squared:         </th> <td>   0.958</td>\n",
              "</tr>\n",
              "<tr>\n",
              "  <th>Model:</th>                   <td>OLS</td>       <th>  Adj. R-squared:    </th> <td>   0.956</td>\n",
              "</tr>\n",
              "<tr>\n",
              "  <th>Method:</th>             <td>Least Squares</td>  <th>  F-statistic:       </th> <td>   473.9</td>\n",
              "</tr>\n",
              "<tr>\n",
              "  <th>Date:</th>             <td>Sat, 13 Jun 2020</td> <th>  Prob (F-statistic):</th> <td>1.52e-29</td>\n",
              "</tr>\n",
              "<tr>\n",
              "  <th>Time:</th>                 <td>03:15:23</td>     <th>  Log-Likelihood:    </th> <td> -161.23</td>\n",
              "</tr>\n",
              "<tr>\n",
              "  <th>No. Observations:</th>      <td>    45</td>      <th>  AIC:               </th> <td>   328.5</td>\n",
              "</tr>\n",
              "<tr>\n",
              "  <th>Df Residuals:</th>          <td>    42</td>      <th>  BIC:               </th> <td>   333.9</td>\n",
              "</tr>\n",
              "<tr>\n",
              "  <th>Df Model:</th>              <td>     2</td>      <th>                     </th>     <td> </td>   \n",
              "</tr>\n",
              "<tr>\n",
              "  <th>Covariance Type:</th>      <td>nonrobust</td>    <th>                     </th>     <td> </td>   \n",
              "</tr>\n",
              "</table>\n",
              "<table class=\"simpletable\">\n",
              "<tr>\n",
              "    <td></td>       <th>coef</th>     <th>std err</th>      <th>t</th>      <th>P>|t|</th>  <th>[0.025</th>    <th>0.975]</th>  \n",
              "</tr>\n",
              "<tr>\n",
              "  <th>const</th> <td>   -0.9225</td> <td>    3.100</td> <td>   -0.298</td> <td> 0.767</td> <td>   -7.178</td> <td>    5.333</td>\n",
              "</tr>\n",
              "<tr>\n",
              "  <th>X1</th>    <td>   15.0461</td> <td>    0.490</td> <td>   30.706</td> <td> 0.000</td> <td>   14.057</td> <td>   16.035</td>\n",
              "</tr>\n",
              "<tr>\n",
              "  <th>X2</th>    <td>    0.7587</td> <td>    2.780</td> <td>    0.273</td> <td> 0.786</td> <td>   -4.851</td> <td>    6.369</td>\n",
              "</tr>\n",
              "</table>\n",
              "<table class=\"simpletable\">\n",
              "<tr>\n",
              "  <th>Omnibus:</th>       <td> 1.360</td> <th>  Durbin-Watson:     </th> <td>   2.406</td>\n",
              "</tr>\n",
              "<tr>\n",
              "  <th>Prob(Omnibus):</th> <td> 0.507</td> <th>  Jarque-Bera (JB):  </th> <td>   1.215</td>\n",
              "</tr>\n",
              "<tr>\n",
              "  <th>Skew:</th>          <td>-0.387</td> <th>  Prob(JB):          </th> <td>   0.545</td>\n",
              "</tr>\n",
              "<tr>\n",
              "  <th>Kurtosis:</th>      <td> 2.778</td> <th>  Cond. No.          </th> <td>    15.4</td>\n",
              "</tr>\n",
              "</table><br/><br/>Warnings:<br/>[1] Standard Errors assume that the covariance matrix of the errors is correctly specified."
            ],
            "text/plain": [
              "<class 'statsmodels.iolib.summary.Summary'>\n",
              "\"\"\"\n",
              "                            OLS Regression Results                            \n",
              "==============================================================================\n",
              "Dep. Variable:                      Y   R-squared:                       0.958\n",
              "Model:                            OLS   Adj. R-squared:                  0.956\n",
              "Method:                 Least Squares   F-statistic:                     473.9\n",
              "Date:                Sat, 13 Jun 2020   Prob (F-statistic):           1.52e-29\n",
              "Time:                        03:15:23   Log-Likelihood:                -161.23\n",
              "No. Observations:                  45   AIC:                             328.5\n",
              "Df Residuals:                      42   BIC:                             333.9\n",
              "Df Model:                           2                                         \n",
              "Covariance Type:            nonrobust                                         \n",
              "==============================================================================\n",
              "                 coef    std err          t      P>|t|      [0.025      0.975]\n",
              "------------------------------------------------------------------------------\n",
              "const         -0.9225      3.100     -0.298      0.767      -7.178       5.333\n",
              "X1            15.0461      0.490     30.706      0.000      14.057      16.035\n",
              "X2             0.7587      2.780      0.273      0.786      -4.851       6.369\n",
              "==============================================================================\n",
              "Omnibus:                        1.360   Durbin-Watson:                   2.406\n",
              "Prob(Omnibus):                  0.507   Jarque-Bera (JB):                1.215\n",
              "Skew:                          -0.387   Prob(JB):                        0.545\n",
              "Kurtosis:                       2.778   Cond. No.                         15.4\n",
              "==============================================================================\n",
              "\n",
              "Warnings:\n",
              "[1] Standard Errors assume that the covariance matrix of the errors is correctly specified.\n",
              "\"\"\""
            ]
          },
          "metadata": {
            "tags": []
          },
          "execution_count": 5
        }
      ]
    },
    {
      "cell_type": "markdown",
      "metadata": {
        "id": "6D60OKPVKPa9",
        "colab_type": "text"
      },
      "source": [
        "# ***Q8.15***\n",
        "\n",
        "Part(a).\n",
        "\n",
        "Beta0 means that when the number of copiers serviced is zeros and model is small, the number of minutes spent on the service call's result.\n",
        "\n",
        "Beta1 means the change that the number of copiers serviced has to the number of minutes spent on the service call when the number of copiers serviced changes by one unit.\n",
        "\n",
        "Beta2 indicates how much higher or lower the response function for small model is than the one for Large model, for any given the number of copiers serviced.\n",
        "\n",
        "Part(b). \n",
        "\n",
        "Y_hat = -0.9225 + 15.0461*X1 + 0.7587*X2\n",
        "\n",
        "Part(c).\n",
        "\n",
        "beta2'CI '-4.851<= beta2 <=\t6.369'\n",
        "\n",
        "That means with 95% percent confidence, we conclude that small model tend to spend more time somewhere between -4.8 and 6.3, on the average, than large model for any given the number of copiers serviced.\n",
        "\n",
        "Part(d).\n",
        "\n",
        "Since the model assumes equal slopes and the same constant error term variance for each type of model, the common slope 'beta1' can best be estimated by pooling the two types of model.\n",
        "\n",
        "And 'beta0' and 'beta2' can be made more precisely by working with one regression model containing an indicator variable since more degrees of freedom will then be associated with MSE.\n",
        "\n",
        "Part(e).\n",
        "\n",
        "When X1X2=0, there are two residual values that are out of range between -15 and 15. Given that, an interaction term in regression model may be helpful."
      ]
    },
    {
      "cell_type": "code",
      "metadata": {
        "id": "TgYg42LVHIf7",
        "colab_type": "code",
        "outputId": "94ef19cd-b054-4783-c738-41dc7f3fe048",
        "colab": {
          "base_uri": "https://localhost:8080/",
          "height": 279
        }
      },
      "source": [
        "# residual plot against X1X2\n",
        "\n",
        "plt.scatter(x = df['X1']*df['X2'], y = results.resid)\n",
        "plt.axhline(y = 0, color = 'red', linewidth = 1)\n",
        "plt.axhline(y = 15, color = 'red', linestyle = '--', linewidth = 1)\n",
        "plt.axhline(y = -15, color = 'red', linestyle = '--', linewidth = 1)\n",
        "plt.axvline(x=0.5, color = 'red', linewidth = 1 )\n",
        "plt.xlabel(\"X1X2\")\n",
        "plt.ylabel(\"results_residual\")\n",
        "plt.show()"
      ],
      "execution_count": 0,
      "outputs": [
        {
          "output_type": "display_data",
          "data": {
            "image/png": "[encoded data removed]",
            "text/plain": [
              "<Figure size 432x288 with 1 Axes>"
            ]
          },
          "metadata": {
            "tags": [],
            "needs_background": "light"
          }
        }
      ]
    },
    {
      "cell_type": "markdown",
      "metadata": {
        "id": "rTEA7KnzrrW0",
        "colab_type": "text"
      },
      "source": [
        "# ***Q1. Part(b)***\n",
        "\n",
        "'y_hat_small' function is a function that is parallel to the y-axis by beta2 from 'y_hat_large'."
      ]
    },
    {
      "cell_type": "code",
      "metadata": {
        "id": "am6PSVWXp0-a",
        "colab_type": "code",
        "colab": {}
      },
      "source": [
        "y_hat_small = results.params[0] + results.params[1]*df['X1'] + results.params[2]*1\n",
        "y_hat_large = results.params[0] + results.params[1]*df['X1'] + results.params[2]*0\n",
        "\n",
        "y_hat_small = y_hat_small.to_frame()\n",
        "y_hat_large = y_hat_large.to_frame()\n",
        "\n",
        "y_hat_small = pd.DataFrame({'X1': df['X1'], 'y_hat_small': y_hat_small['X1']})\n",
        "y_hat_large = pd.DataFrame({'X1': df['X1'], 'y_hat_large': y_hat_large['X1']})"
      ],
      "execution_count": 0,
      "outputs": []
    },
    {
      "cell_type": "code",
      "metadata": {
        "id": "8PCpVLwOrvN3",
        "colab_type": "code",
        "outputId": "6e573981-d94e-4eb2-b383-2212a763c80c",
        "colab": {
          "base_uri": "https://localhost:8080/",
          "height": 265
        }
      },
      "source": [
        "plt.plot('X1', 'y_hat_small', data = y_hat_small, label = 'small model')\n",
        "plt.plot('X1', 'y_hat_large', data = y_hat_large, linewidth = 0.3, label = 'large model')\n",
        "plt.scatter(df['X1'], df['Y'], color = 'black')\n",
        "plt.legend()\n",
        "plt.show()"
      ],
      "execution_count": 0,
      "outputs": [
        {
          "output_type": "display_data",
          "data": {
            "image/png": "[encoded data removed]",
            "text/plain": [
              "<Figure size 432x288 with 1 Axes>"
            ]
          },
          "metadata": {
            "tags": [],
            "needs_background": "light"
          }
        }
      ]
    },
    {
      "cell_type": "code",
      "metadata": {
        "id": "LDE0EYmaILcB",
        "colab_type": "code",
        "outputId": "84372748-503a-451b-85ae-55826b192591",
        "colab": {
          "base_uri": "https://localhost:8080/",
          "height": 204
        }
      },
      "source": [
        "df = pd.DataFrame({'Y': df['Y'], 'X1': df['X1'], 'X2': df['X2'], 'X1X2': df['X1']*df['X2']})\n",
        "df.head()"
      ],
      "execution_count": 0,
      "outputs": [
        {
          "output_type": "execute_result",
          "data": {
            "text/html": [
              "<div>\n",
              "<style scoped>\n",
              "    .dataframe tbody tr th:only-of-type {\n",
              "        vertical-align: middle;\n",
              "    }\n",
              "\n",
              "    .dataframe tbody tr th {\n",
              "        vertical-align: top;\n",
              "    }\n",
              "\n",
              "    .dataframe thead th {\n",
              "        text-align: right;\n",
              "    }\n",
              "</style>\n",
              "<table border=\"1\" class=\"dataframe\">\n",
              "  <thead>\n",
              "    <tr style=\"text-align: right;\">\n",
              "      <th></th>\n",
              "      <th>Y</th>\n",
              "      <th>X1</th>\n",
              "      <th>X2</th>\n",
              "      <th>X1X2</th>\n",
              "    </tr>\n",
              "  </thead>\n",
              "  <tbody>\n",
              "    <tr>\n",
              "      <th>0</th>\n",
              "      <td>20</td>\n",
              "      <td>2</td>\n",
              "      <td>1</td>\n",
              "      <td>2</td>\n",
              "    </tr>\n",
              "    <tr>\n",
              "      <th>1</th>\n",
              "      <td>60</td>\n",
              "      <td>4</td>\n",
              "      <td>0</td>\n",
              "      <td>0</td>\n",
              "    </tr>\n",
              "    <tr>\n",
              "      <th>2</th>\n",
              "      <td>46</td>\n",
              "      <td>3</td>\n",
              "      <td>0</td>\n",
              "      <td>0</td>\n",
              "    </tr>\n",
              "    <tr>\n",
              "      <th>3</th>\n",
              "      <td>41</td>\n",
              "      <td>2</td>\n",
              "      <td>0</td>\n",
              "      <td>0</td>\n",
              "    </tr>\n",
              "    <tr>\n",
              "      <th>4</th>\n",
              "      <td>12</td>\n",
              "      <td>1</td>\n",
              "      <td>0</td>\n",
              "      <td>0</td>\n",
              "    </tr>\n",
              "  </tbody>\n",
              "</table>\n",
              "</div>"
            ],
            "text/plain": [
              "    Y  X1  X2  X1X2\n",
              "0  20   2   1     2\n",
              "1  60   4   0     0\n",
              "2  46   3   0     0\n",
              "3  41   2   0     0\n",
              "4  12   1   0     0"
            ]
          },
          "metadata": {
            "tags": []
          },
          "execution_count": 9
        }
      ]
    },
    {
      "cell_type": "markdown",
      "metadata": {
        "id": "KyhvunBVaDgJ",
        "colab_type": "text"
      },
      "source": [
        "# ***Q8.19***\n",
        "\n",
        "Part(a).\n",
        "\n",
        "Y_hat = 2.8131 + 14.3394*X1 -8.1412*X2 + 1.7774*X1X2\n",
        "\n",
        "Part(b).\n",
        "\n",
        "beta3's t-value is 1.824 and t(0.95, 41) is 1.6828780004112913.\n",
        "\n",
        "Because 1.824 > 1.6828780004112913, H0(beta3 = 0) is rejected. \n",
        "And P-value is 0.075\n",
        "\n",
        "So we conclude that the interation term cannot be dropped from this regerssion model.\n",
        "\n",
        "Beta3 is difference in slope between small model and large model. In other words, the difference in the mean number of minutes spent on the service call, when the number of copiers service changes by 1 unit, is beta3 higer for small model compared to large model."
      ]
    },
    {
      "cell_type": "code",
      "metadata": {
        "id": "iRrxYKoEXaxX",
        "colab_type": "code",
        "outputId": "ed4939b2-550c-4b4e-f427-3638729c99d8",
        "colab": {
          "base_uri": "https://localhost:8080/",
          "height": 486
        }
      },
      "source": [
        "y = df['Y']\n",
        "X = df[['X1', 'X2', 'X1X2']]\n",
        "\n",
        "X = sm.add_constant(X)\n",
        "\n",
        "model = sm.OLS(y, X)\n",
        "results = model.fit()\n",
        "\n",
        "results.summary()"
      ],
      "execution_count": 0,
      "outputs": [
        {
          "output_type": "execute_result",
          "data": {
            "text/html": [
              "<table class=\"simpletable\">\n",
              "<caption>OLS Regression Results</caption>\n",
              "<tr>\n",
              "  <th>Dep. Variable:</th>            <td>Y</td>        <th>  R-squared:         </th> <td>   0.961</td>\n",
              "</tr>\n",
              "<tr>\n",
              "  <th>Model:</th>                   <td>OLS</td>       <th>  Adj. R-squared:    </th> <td>   0.958</td>\n",
              "</tr>\n",
              "<tr>\n",
              "  <th>Method:</th>             <td>Least Squares</td>  <th>  F-statistic:       </th> <td>   334.6</td>\n",
              "</tr>\n",
              "<tr>\n",
              "  <th>Date:</th>             <td>Sat, 13 Jun 2020</td> <th>  Prob (F-statistic):</th> <td>7.60e-29</td>\n",
              "</tr>\n",
              "<tr>\n",
              "  <th>Time:</th>                 <td>03:15:23</td>     <th>  Log-Likelihood:    </th> <td> -159.48</td>\n",
              "</tr>\n",
              "<tr>\n",
              "  <th>No. Observations:</th>      <td>    45</td>      <th>  AIC:               </th> <td>   327.0</td>\n",
              "</tr>\n",
              "<tr>\n",
              "  <th>Df Residuals:</th>          <td>    41</td>      <th>  BIC:               </th> <td>   334.2</td>\n",
              "</tr>\n",
              "<tr>\n",
              "  <th>Df Model:</th>              <td>     3</td>      <th>                     </th>     <td> </td>   \n",
              "</tr>\n",
              "<tr>\n",
              "  <th>Covariance Type:</th>      <td>nonrobust</td>    <th>                     </th>     <td> </td>   \n",
              "</tr>\n",
              "</table>\n",
              "<table class=\"simpletable\">\n",
              "<tr>\n",
              "    <td></td>       <th>coef</th>     <th>std err</th>      <th>t</th>      <th>P>|t|</th>  <th>[0.025</th>    <th>0.975]</th>  \n",
              "</tr>\n",
              "<tr>\n",
              "  <th>const</th> <td>    2.8131</td> <td>    3.647</td> <td>    0.771</td> <td> 0.445</td> <td>   -4.552</td> <td>   10.178</td>\n",
              "</tr>\n",
              "<tr>\n",
              "  <th>X1</th>    <td>   14.3394</td> <td>    0.615</td> <td>   23.333</td> <td> 0.000</td> <td>   13.098</td> <td>   15.581</td>\n",
              "</tr>\n",
              "<tr>\n",
              "  <th>X2</th>    <td>   -8.1412</td> <td>    5.580</td> <td>   -1.459</td> <td> 0.152</td> <td>  -19.410</td> <td>    3.128</td>\n",
              "</tr>\n",
              "<tr>\n",
              "  <th>X1X2</th>  <td>    1.7774</td> <td>    0.975</td> <td>    1.824</td> <td> 0.075</td> <td>   -0.191</td> <td>    3.746</td>\n",
              "</tr>\n",
              "</table>\n",
              "<table class=\"simpletable\">\n",
              "<tr>\n",
              "  <th>Omnibus:</th>       <td> 0.997</td> <th>  Durbin-Watson:     </th> <td>   2.520</td>\n",
              "</tr>\n",
              "<tr>\n",
              "  <th>Prob(Omnibus):</th> <td> 0.607</td> <th>  Jarque-Bera (JB):  </th> <td>   0.905</td>\n",
              "</tr>\n",
              "<tr>\n",
              "  <th>Skew:</th>          <td>-0.114</td> <th>  Prob(JB):          </th> <td>   0.636</td>\n",
              "</tr>\n",
              "<tr>\n",
              "  <th>Kurtosis:</th>      <td> 2.344</td> <th>  Cond. No.          </th> <td>    30.1</td>\n",
              "</tr>\n",
              "</table><br/><br/>Warnings:<br/>[1] Standard Errors assume that the covariance matrix of the errors is correctly specified."
            ],
            "text/plain": [
              "<class 'statsmodels.iolib.summary.Summary'>\n",
              "\"\"\"\n",
              "                            OLS Regression Results                            \n",
              "==============================================================================\n",
              "Dep. Variable:                      Y   R-squared:                       0.961\n",
              "Model:                            OLS   Adj. R-squared:                  0.958\n",
              "Method:                 Least Squares   F-statistic:                     334.6\n",
              "Date:                Sat, 13 Jun 2020   Prob (F-statistic):           7.60e-29\n",
              "Time:                        03:15:23   Log-Likelihood:                -159.48\n",
              "No. Observations:                  45   AIC:                             327.0\n",
              "Df Residuals:                      41   BIC:                             334.2\n",
              "Df Model:                           3                                         \n",
              "Covariance Type:            nonrobust                                         \n",
              "==============================================================================\n",
              "                 coef    std err          t      P>|t|      [0.025      0.975]\n",
              "------------------------------------------------------------------------------\n",
              "const          2.8131      3.647      0.771      0.445      -4.552      10.178\n",
              "X1            14.3394      0.615     23.333      0.000      13.098      15.581\n",
              "X2            -8.1412      5.580     -1.459      0.152     -19.410       3.128\n",
              "X1X2           1.7774      0.975      1.824      0.075      -0.191       3.746\n",
              "==============================================================================\n",
              "Omnibus:                        0.997   Durbin-Watson:                   2.520\n",
              "Prob(Omnibus):                  0.607   Jarque-Bera (JB):                0.905\n",
              "Skew:                          -0.114   Prob(JB):                        0.636\n",
              "Kurtosis:                       2.344   Cond. No.                         30.1\n",
              "==============================================================================\n",
              "\n",
              "Warnings:\n",
              "[1] Standard Errors assume that the covariance matrix of the errors is correctly specified.\n",
              "\"\"\""
            ]
          },
          "metadata": {
            "tags": []
          },
          "execution_count": 10
        }
      ]
    },
    {
      "cell_type": "code",
      "metadata": {
        "id": "WYFPU4ApYkWP",
        "colab_type": "code",
        "outputId": "2e69d531-92b6-40a4-ff53-f2de053fe575",
        "colab": {
          "base_uri": "https://localhost:8080/",
          "height": 34
        }
      },
      "source": [
        "t_critical = scipy.stats.t.ppf(q = 0.95, df = 41)\n",
        "t_critical"
      ],
      "execution_count": 0,
      "outputs": [
        {
          "output_type": "execute_result",
          "data": {
            "text/plain": [
              "1.6828780004112913"
            ]
          },
          "metadata": {
            "tags": []
          },
          "execution_count": 11
        }
      ]
    },
    {
      "cell_type": "markdown",
      "metadata": {
        "id": "QfkLaIFTrWc4",
        "colab_type": "text"
      },
      "source": [
        "# ***Q1. Part(b)***\n",
        "\n",
        "Beta3 is difference in slope between small model and large model. In other words, the difference in the mean number of minutes spent on the service call, when the number of copiers service changes by 1 unit, is beta3 higer for small model compared to large model."
      ]
    },
    {
      "cell_type": "code",
      "metadata": {
        "id": "jjyeywdvZjHa",
        "colab_type": "code",
        "outputId": "2693a6b2-6103-4d85-add3-ad555afa7458",
        "colab": {
          "base_uri": "https://localhost:8080/",
          "height": 265
        }
      },
      "source": [
        "y_hat_small = results.params[0] + results.params[1]*df['X1'] + results.params[2]*1 + results.params[3]*df['X1']\n",
        "y_hat_large = results.params[0] + results.params[1]*df['X1'] + results.params[2]*0 + results.params[3]*0\n",
        "\n",
        "y_hat_small = y_hat_small.to_frame()\n",
        "y_hat_large = y_hat_large.to_frame()\n",
        "\n",
        "y_hat_small = pd.DataFrame({'X1': df['X1'], 'y_hat_small': y_hat_small['X1']})\n",
        "y_hat_large = pd.DataFrame({'X1': df['X1'], 'y_hat_large': y_hat_large['X1']})\n",
        "\n",
        "plt.plot('X1', 'y_hat_small', data = y_hat_small, label = \"small model\")\n",
        "plt.plot('X1', 'y_hat_large', data = y_hat_large, label = \"large model\")\n",
        "plt.scatter(df['X1'], df['Y'], color = 'black')\n",
        "plt.legend()\n",
        "plt.show()"
      ],
      "execution_count": 0,
      "outputs": [
        {
          "output_type": "display_data",
          "data": {
            "image/png": "[encoded data removed]",
            "text/plain": [
              "<Figure size 432x288 with 1 Axes>"
            ]
          },
          "metadata": {
            "tags": [],
            "needs_background": "light"
          }
        }
      ]
    },
    {
      "cell_type": "markdown",
      "metadata": {
        "id": "BMK9PrDqvTwx",
        "colab_type": "text"
      },
      "source": [
        "# ***Q8. 21***\n",
        "\n",
        "Part(a).\n",
        "\n",
        "Hard hat(X2 = 1, X3 = 0): E{Y} = beta0 + beta2 + beta1*X1\n",
        "\n",
        "Bump cap(X2 = 0, X3 = 1): E{Y} = beta0 + beta3 + beta1*X1\n",
        "\n",
        "None(X2 = 0, X3 = 0): E{Y} = beta0 + beta1*X1\n",
        "\n",
        "Part(b).\n",
        "\n",
        "(1) H0: beta3 <= 0\n",
        "    , Ha: beta > 0\n",
        "\n",
        "(2) H0: beta2 = beta3\n",
        "    , Ha: beta2 != beta3"
      ]
    }
  ]
}