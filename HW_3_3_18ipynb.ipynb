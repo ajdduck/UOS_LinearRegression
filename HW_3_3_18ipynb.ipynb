{
  "nbformat": 4,
  "nbformat_minor": 0,
  "metadata": {
    "colab": {
      "name": "HW#3_3.18ipynb",
      "provenance": [],
      "mount_file_id": "10ePJhzwBMUY-ys4g0qhXtGccy4SPf-IJ",
      "authorship_tag": "ABX9TyMDykK1YSqHtwwcwh8MSIS1",
      "include_colab_link": true
    },
    "kernelspec": {
      "name": "python3",
      "display_name": "Python 3"
    }
  },
  "cells": [
    {
      "cell_type": "markdown",
      "metadata": {
        "id": "view-in-github",
        "colab_type": "text"
      },
      "source": [
        "<a href=\"https://colab.research.google.com/github/ajdduck/uos_linearrgression/blob/master/HW_3_3_18ipynb.ipynb\" target=\"_parent\"><img src=\"https://colab.research.google.com/assets/colab-badge.svg\" alt=\"Open In Colab\"/></a>"
      ]
    },
    {
      "cell_type": "code",
      "metadata": {
        "id": "VKkhbicRO5MN",
        "colab_type": "code",
        "outputId": "3ca620d7-c252-47b0-9ad4-67a1d808208d",
        "colab": {
          "base_uri": "https://localhost:8080/",
          "height": 71
        }
      },
      "source": [
        "%matplotlib inline\n",
        "import statsmodels.api as sm\n",
        "import statsmodels.formula.api as smf\n",
        "import pandas as pd\n",
        "import matplotlib.pyplot as plt\n",
        "from scipy import stats\n",
        "import statsmodels.stats.api as sms\n",
        "import math"
      ],
      "execution_count": 0,
      "outputs": [
        {
          "output_type": "stream",
          "text": [
            "/usr/local/lib/python3.6/dist-packages/statsmodels/tools/_testing.py:19: FutureWarning: pandas.util.testing is deprecated. Use the functions in the public API at pandas.testing instead.\n",
            "  import pandas.util.testing as tm\n"
          ],
          "name": "stderr"
        }
      ]
    },
    {
      "cell_type": "code",
      "metadata": {
        "id": "7DKjuYf2dgwf",
        "colab_type": "code",
        "colab": {}
      },
      "source": [
        "df = pd.read_csv('/content/drive/My Drive/production_time.txt', names=['Y', 'X'])"
      ],
      "execution_count": 0,
      "outputs": []
    },
    {
      "cell_type": "code",
      "metadata": {
        "id": "EQ7_nw1LdtJY",
        "colab_type": "code",
        "outputId": "d201daeb-0d2d-4093-e713-f7b8fdec9a8f",
        "colab": {
          "base_uri": "https://localhost:8080/",
          "height": 204
        }
      },
      "source": [
        "df.head()"
      ],
      "execution_count": 0,
      "outputs": [
        {
          "output_type": "execute_result",
          "data": {
            "text/html": [
              "<div>\n",
              "<style scoped>\n",
              "    .dataframe tbody tr th:only-of-type {\n",
              "        vertical-align: middle;\n",
              "    }\n",
              "\n",
              "    .dataframe tbody tr th {\n",
              "        vertical-align: top;\n",
              "    }\n",
              "\n",
              "    .dataframe thead th {\n",
              "        text-align: right;\n",
              "    }\n",
              "</style>\n",
              "<table border=\"1\" class=\"dataframe\">\n",
              "  <thead>\n",
              "    <tr style=\"text-align: right;\">\n",
              "      <th></th>\n",
              "      <th>Y</th>\n",
              "      <th>X</th>\n",
              "    </tr>\n",
              "  </thead>\n",
              "  <tbody>\n",
              "    <tr>\n",
              "      <th>0</th>\n",
              "      <td>14.28</td>\n",
              "      <td>15</td>\n",
              "    </tr>\n",
              "    <tr>\n",
              "      <th>1</th>\n",
              "      <td>8.80</td>\n",
              "      <td>9</td>\n",
              "    </tr>\n",
              "    <tr>\n",
              "      <th>2</th>\n",
              "      <td>12.49</td>\n",
              "      <td>7</td>\n",
              "    </tr>\n",
              "    <tr>\n",
              "      <th>3</th>\n",
              "      <td>9.38</td>\n",
              "      <td>4</td>\n",
              "    </tr>\n",
              "    <tr>\n",
              "      <th>4</th>\n",
              "      <td>10.89</td>\n",
              "      <td>9</td>\n",
              "    </tr>\n",
              "  </tbody>\n",
              "</table>\n",
              "</div>"
            ],
            "text/plain": [
              "       Y   X\n",
              "0  14.28  15\n",
              "1   8.80   9\n",
              "2  12.49   7\n",
              "3   9.38   4\n",
              "4  10.89   9"
            ]
          },
          "metadata": {
            "tags": []
          },
          "execution_count": 3
        }
      ]
    },
    {
      "cell_type": "code",
      "metadata": {
        "id": "0wGgswozdu2Q",
        "colab_type": "code",
        "outputId": "3301a570-9edc-4c52-e72e-080c4095f402",
        "colab": {
          "base_uri": "https://localhost:8080/",
          "height": 279
        }
      },
      "source": [
        "# Part(a)\n",
        "# This plot is curved shape. that means nonlinearliy relation.\n",
        "# we need to transform X. Because Y will affect the distribution of error terms.\n",
        "plt.scatter(df['X'], df['Y'])\n",
        "plt.xlabel(\"X\")\n",
        "plt.ylabel(\"Y\")\n",
        "plt.show()"
      ],
      "execution_count": 0,
      "outputs": [
        {
          "output_type": "display_data",
          "data": {
            "image/png": "[encoded data removed]",
            "text/plain": [
              "<Figure size 432x288 with 1 Axes>"
            ]
          },
          "metadata": {
            "tags": [],
            "needs_background": "light"
          }
        }
      ]
    },
    {
      "cell_type": "code",
      "metadata": {
        "id": "Lzwudf2_gzGy",
        "colab_type": "code",
        "outputId": "6e99470b-c1f5-4c00-9377-be16d48b6d66",
        "colab": {
          "base_uri": "https://localhost:8080/",
          "height": 68
        }
      },
      "source": [
        "X = df['X']\n",
        "y = df['Y']\n",
        "\n",
        "results_original = smf.ols('y ~ X', data = df).fit()\n",
        "\n",
        "# Part(e)\n",
        "# regression function in the original units : Y = 6.863487 + 0.533275X\n",
        "results_original.params"
      ],
      "execution_count": 0,
      "outputs": [
        {
          "output_type": "execute_result",
          "data": {
            "text/plain": [
              "Intercept    6.863487\n",
              "X            0.533275\n",
              "dtype: float64"
            ]
          },
          "metadata": {
            "tags": []
          },
          "execution_count": 5
        }
      ]
    },
    {
      "cell_type": "code",
      "metadata": {
        "id": "VGC51wRubbKN",
        "colab_type": "code",
        "colab": {}
      },
      "source": [
        "# Part(b)\n",
        "# transformation X_tr = route(X)\n",
        "\n",
        "X_tr = df['X']**(1/2)\n",
        "df['X'] = X_tr"
      ],
      "execution_count": 0,
      "outputs": []
    },
    {
      "cell_type": "code",
      "metadata": {
        "id": "LaXA24lHcH1G",
        "colab_type": "code",
        "outputId": "f58fd913-580a-4e2b-f705-81696b1b07e6",
        "colab": {
          "base_uri": "https://localhost:8080/",
          "height": 204
        }
      },
      "source": [
        "df.head()"
      ],
      "execution_count": 0,
      "outputs": [
        {
          "output_type": "execute_result",
          "data": {
            "text/html": [
              "<div>\n",
              "<style scoped>\n",
              "    .dataframe tbody tr th:only-of-type {\n",
              "        vertical-align: middle;\n",
              "    }\n",
              "\n",
              "    .dataframe tbody tr th {\n",
              "        vertical-align: top;\n",
              "    }\n",
              "\n",
              "    .dataframe thead th {\n",
              "        text-align: right;\n",
              "    }\n",
              "</style>\n",
              "<table border=\"1\" class=\"dataframe\">\n",
              "  <thead>\n",
              "    <tr style=\"text-align: right;\">\n",
              "      <th></th>\n",
              "      <th>Y</th>\n",
              "      <th>X</th>\n",
              "    </tr>\n",
              "  </thead>\n",
              "  <tbody>\n",
              "    <tr>\n",
              "      <th>0</th>\n",
              "      <td>14.28</td>\n",
              "      <td>3.872983</td>\n",
              "    </tr>\n",
              "    <tr>\n",
              "      <th>1</th>\n",
              "      <td>8.80</td>\n",
              "      <td>3.000000</td>\n",
              "    </tr>\n",
              "    <tr>\n",
              "      <th>2</th>\n",
              "      <td>12.49</td>\n",
              "      <td>2.645751</td>\n",
              "    </tr>\n",
              "    <tr>\n",
              "      <th>3</th>\n",
              "      <td>9.38</td>\n",
              "      <td>2.000000</td>\n",
              "    </tr>\n",
              "    <tr>\n",
              "      <th>4</th>\n",
              "      <td>10.89</td>\n",
              "      <td>3.000000</td>\n",
              "    </tr>\n",
              "  </tbody>\n",
              "</table>\n",
              "</div>"
            ],
            "text/plain": [
              "       Y         X\n",
              "0  14.28  3.872983\n",
              "1   8.80  3.000000\n",
              "2  12.49  2.645751\n",
              "3   9.38  2.000000\n",
              "4  10.89  3.000000"
            ]
          },
          "metadata": {
            "tags": []
          },
          "execution_count": 7
        }
      ]
    },
    {
      "cell_type": "code",
      "metadata": {
        "id": "g7YdCcoZcJOG",
        "colab_type": "code",
        "colab": {}
      },
      "source": [
        "X = df['X']\n",
        "y = df['Y']\n",
        "\n",
        "results = smf.ols('y ~ X', data = df).fit()"
      ],
      "execution_count": 0,
      "outputs": []
    },
    {
      "cell_type": "code",
      "metadata": {
        "id": "QEagf0JkcgMF",
        "colab_type": "code",
        "outputId": "f56b7819-ee50-4e9e-c010-6b8cfe17d71d",
        "colab": {
          "base_uri": "https://localhost:8080/",
          "height": 279
        }
      },
      "source": [
        "# Part(c)\n",
        "# regression line appear to be a good fit to the transformed data.\n",
        "\n",
        "y_hat = results.fittedvalues\n",
        "plt.scatter(X, y)\n",
        "plt.plot(X, y_hat, color = 'red')\n",
        "plt.xlabel('X')\n",
        "plt.ylabel('y')\n",
        "plt.show()"
      ],
      "execution_count": 0,
      "outputs": [
        {
          "output_type": "display_data",
          "data": {
            "image/png": "[encoded data removed]",
            "text/plain": [
              "<Figure size 432x288 with 1 Axes>"
            ]
          },
          "metadata": {
            "tags": [],
            "needs_background": "light"
          }
        }
      ]
    },
    {
      "cell_type": "code",
      "metadata": {
        "id": "SnxGWSjIeTib",
        "colab_type": "code",
        "outputId": "d7d301a5-0912-46c1-efc7-ade032c9e241",
        "colab": {
          "base_uri": "https://localhost:8080/",
          "height": 68
        }
      },
      "source": [
        "results_residual = results.resid\n",
        "\n",
        "# Part(b)\n",
        "# linear regression fuction for the transformed data : Y = 1.254697 + 3.623520X\n",
        "results.params"
      ],
      "execution_count": 0,
      "outputs": [
        {
          "output_type": "execute_result",
          "data": {
            "text/plain": [
              "Intercept    1.254697\n",
              "X            3.623520\n",
              "dtype: float64"
            ]
          },
          "metadata": {
            "tags": []
          },
          "execution_count": 10
        }
      ]
    },
    {
      "cell_type": "code",
      "metadata": {
        "id": "WT3YKpUAeosh",
        "colab_type": "code",
        "outputId": "76b8fb0b-c9b4-4728-be45-843d4d9e8d1f",
        "colab": {
          "base_uri": "https://localhost:8080/",
          "height": 280
        }
      },
      "source": [
        "# Part(d)\n",
        "# according to residual plot, there is no departure from regression line. \n",
        "# Also, a normal probability plot show the sample is normally distributed.\n",
        "\n",
        "plt.scatter(y_hat, results_residual)\n",
        "plt.axhline(y = 0, color = 'red', linestyle = '--', linewidth = 1)\n",
        "plt.xlabel('y_hat')\n",
        "plt.ylabel('results_residual')\n",
        "plt.show()"
      ],
      "execution_count": 0,
      "outputs": [
        {
          "output_type": "display_data",
          "data": {
            "image/png": "[encoded data removed]",
            "text/plain": [
              "<Figure size 432x288 with 1 Axes>"
            ]
          },
          "metadata": {
            "tags": [],
            "needs_background": "light"
          }
        }
      ]
    },
    {
      "cell_type": "code",
      "metadata": {
        "id": "oW7sJIx-e4l6",
        "colab_type": "code",
        "outputId": "4bb58d73-2afe-4ced-abce-526bc3e352ae",
        "colab": {
          "base_uri": "https://localhost:8080/",
          "height": 1000
        }
      },
      "source": [
        "fig, ax = plt.subplots(figsize=(6,2.5))\n",
        "stats.probplot(results_residual, dist='norm', plot=ax, fit=True)"
      ],
      "execution_count": 0,
      "outputs": [
        {
          "output_type": "execute_result",
          "data": {
            "text/plain": [
              "((array([-2.4991197 , -2.1672479 , -1.97582218, -1.83751514, -1.72741673,\n",
              "         -1.63498682, -1.55472837, -1.48339408, -1.41889818, -1.35981755,\n",
              "         -1.30513574, -1.25410018, -1.20613729, -1.16079931, -1.11772963,\n",
              "         -1.07663928, -1.03729067, -0.99948588, -0.96305815, -0.92786557,\n",
              "         -0.89378625, -0.86071463, -0.82855865, -0.79723742, -0.76667945,\n",
              "         -0.7368212 , -0.70760586, -0.6789824 , -0.65090474, -0.62333113,\n",
              "         -0.59622353, -0.56954717, -0.54327012, -0.51736298, -0.49179855,\n",
              "         -0.4665516 , -0.44159861, -0.41691764, -0.39248808, -0.36829057,\n",
              "         -0.34430684, -0.32051956, -0.29691229, -0.27346937, -0.2501758 ,\n",
              "         -0.22701721, -0.20397975, -0.18105005, -0.15821517, -0.13546249,\n",
              "         -0.11277974, -0.09015487, -0.06757607, -0.04503166, -0.02251012,\n",
              "          0.        ,  0.02251012,  0.04503166,  0.06757607,  0.09015487,\n",
              "          0.11277974,  0.13546249,  0.15821517,  0.18105005,  0.20397975,\n",
              "          0.22701721,  0.2501758 ,  0.27346937,  0.29691229,  0.32051956,\n",
              "          0.34430684,  0.36829057,  0.39248808,  0.41691764,  0.44159861,\n",
              "          0.4665516 ,  0.49179855,  0.51736298,  0.54327012,  0.56954717,\n",
              "          0.59622353,  0.62333113,  0.65090474,  0.6789824 ,  0.70760586,\n",
              "          0.7368212 ,  0.76667945,  0.79723742,  0.82855865,  0.86071463,\n",
              "          0.89378625,  0.92786557,  0.96305815,  0.99948588,  1.03729067,\n",
              "          1.07663928,  1.11772963,  1.16079931,  1.20613729,  1.25410018,\n",
              "          1.30513574,  1.35981755,  1.41889818,  1.48339408,  1.55472837,\n",
              "          1.63498682,  1.72741673,  1.83751514,  1.97582218,  2.1672479 ,\n",
              "          2.4991197 ]),\n",
              "  array([-5.00081782, -4.90081782, -3.85525743, -3.72355963, -3.62229798,\n",
              "         -3.44047235, -3.32525743, -2.85485344, -2.84355963, -2.72163012,\n",
              "         -2.65153453, -2.50047235, -2.46975255, -2.29266801, -2.28163012,\n",
              "         -2.06327382, -2.05327382, -2.01355963, -2.00693904, -1.97266801,\n",
              "         -1.94693904, -1.8687777 , -1.81485344, -1.70355963, -1.65948475,\n",
              "         -1.37948475, -1.31327382, -1.23525743, -1.19693904, -1.19327382,\n",
              "         -1.09355963, -1.06975255, -1.04948475, -1.01051321, -1.00853028,\n",
              "         -0.97525743, -0.90047235, -0.85948475, -0.76799115, -0.7446966 ,\n",
              "         -0.70713425, -0.69355963, -0.67525743, -0.6562481 , -0.60327382,\n",
              "         -0.58327382, -0.35525743, -0.3210972 , -0.28081782, -0.24163012,\n",
              "         -0.18255378, -0.18163012, -0.10023583, -0.07355963,  0.02200885,\n",
              "          0.03826285,  0.13733199,  0.19024745,  0.25744622,  0.30836988,\n",
              "          0.39826285,  0.42751063,  0.48644037,  0.49146972,  0.49826285,\n",
              "          0.50744622,  0.51733199,  0.56672618,  0.57672618,  0.60952765,\n",
              "          0.63644037,  0.73087188,  0.8212223 ,  0.85952765,  0.87826285,\n",
              "          0.87952765,  1.02024745,  1.10826285,  1.17146972,  1.22306096,\n",
              "          1.23952765,  1.25826285,  1.28286575,  1.39051525,  1.46514656,\n",
              "          1.47836988,  1.48918218,  1.64836988,  1.7512223 ,  1.77952765,\n",
              "          1.87826285,  1.93672618,  2.17200885,  2.21952765,  2.23087188,\n",
              "          2.26693974,  2.29733199,  2.31952765,  2.56306096,  2.61948679,\n",
              "          2.74042809,  2.84024745,  2.87836988,  2.98146972,  3.11644037,\n",
              "          3.30751063,  3.48514656,  3.5012223 ,  3.67918218,  3.68286575,\n",
              "          4.17952765])),\n",
              " (2.0033788865011983, 2.5037596070192093e-15, 0.9972537812970191))"
            ]
          },
          "metadata": {
            "tags": []
          },
          "execution_count": 12
        },
        {
          "output_type": "display_data",
          "data": {
            "image/png": "[encoded data removed]",
            "text/plain": [
              "<Figure size 432x180 with 1 Axes>"
            ]
          },
          "metadata": {
            "tags": [],
            "needs_background": "light"
          }
        }
      ]
    },
    {
      "cell_type": "code",
      "metadata": {
        "id": "WRbESvYugHw-",
        "colab_type": "code",
        "colab": {}
      },
      "source": [
        ""
      ],
      "execution_count": 0,
      "outputs": []
    }
  ]
}