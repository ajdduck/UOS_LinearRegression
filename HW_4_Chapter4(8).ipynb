{
  "nbformat": 4,
  "nbformat_minor": 0,
  "metadata": {
    "colab": {
      "name": "HW#4_Chapter4(8).ipynb",
      "provenance": [],
      "mount_file_id": "1pzOXu_JUsywtwFoSGeZY_FU_2fb75wiE",
      "authorship_tag": "ABX9TyPnGem8Wqtx2eMi7r2Oo2WP",
      "include_colab_link": true
    },
    "kernelspec": {
      "name": "python3",
      "display_name": "Python 3"
    }
  },
  "cells": [
    {
      "cell_type": "markdown",
      "metadata": {
        "id": "view-in-github",
        "colab_type": "text"
      },
      "source": [
        "<a href=\"https://colab.research.google.com/github/ajdduck/UOS_LinearRegression/blob/master/HW_4_Chapter4(8).ipynb\" target=\"_parent\"><img src=\"https://colab.research.google.com/assets/colab-badge.svg\" alt=\"Open In Colab\"/></a>"
      ]
    },
    {
      "cell_type": "code",
      "metadata": {
        "id": "1oechCR1Dqnk",
        "colab_type": "code",
        "outputId": "322eb847-d6d9-4a55-c221-3a258c7a750b",
        "colab": {
          "base_uri": "https://localhost:8080/",
          "height": 71
        }
      },
      "source": [
        "import statsmodels.api as sm\n",
        "import pandas as pd\n",
        "import scipy.stats\n",
        "import math"
      ],
      "execution_count": 1,
      "outputs": [
        {
          "output_type": "stream",
          "text": [
            "/usr/local/lib/python3.6/dist-packages/statsmodels/tools/_testing.py:19: FutureWarning: pandas.util.testing is deprecated. Use the functions in the public API at pandas.testing instead.\n",
            "  import pandas.util.testing as tm\n"
          ],
          "name": "stderr"
        }
      ]
    },
    {
      "cell_type": "code",
      "metadata": {
        "id": "Pg33fepDDu81",
        "colab_type": "code",
        "colab": {}
      },
      "source": [
        "df = pd.read_csv(\"/content/drive/My Drive/CH01PR21.txt\", names=['Y', 'X'])"
      ],
      "execution_count": 0,
      "outputs": []
    },
    {
      "cell_type": "code",
      "metadata": {
        "id": "uzyJDRFhDz5i",
        "colab_type": "code",
        "outputId": "79fca1f3-8f8f-4c67-c89c-5fdccd18c105",
        "colab": {
          "base_uri": "https://localhost:8080/",
          "height": 478
        }
      },
      "source": [
        "y = df['Y']\n",
        "X = df['X']\n",
        "\n",
        "X = sm.add_constant(X)\n",
        "\n",
        "model = sm.OLS(y, X)\n",
        "results = model.fit()\n",
        "\n",
        "results.summary()"
      ],
      "execution_count": 3,
      "outputs": [
        {
          "output_type": "stream",
          "text": [
            "/usr/local/lib/python3.6/dist-packages/scipy/stats/stats.py:1535: UserWarning: kurtosistest only valid for n>=20 ... continuing anyway, n=10\n",
            "  \"anyway, n=%i\" % int(n))\n"
          ],
          "name": "stderr"
        },
        {
          "output_type": "execute_result",
          "data": {
            "text/html": [
              "<table class=\"simpletable\">\n",
              "<caption>OLS Regression Results</caption>\n",
              "<tr>\n",
              "  <th>Dep. Variable:</th>            <td>Y</td>        <th>  R-squared:         </th> <td>   0.901</td>\n",
              "</tr>\n",
              "<tr>\n",
              "  <th>Model:</th>                   <td>OLS</td>       <th>  Adj. R-squared:    </th> <td>   0.889</td>\n",
              "</tr>\n",
              "<tr>\n",
              "  <th>Method:</th>             <td>Least Squares</td>  <th>  F-statistic:       </th> <td>   72.73</td>\n",
              "</tr>\n",
              "<tr>\n",
              "  <th>Date:</th>             <td>Tue, 02 Jun 2020</td> <th>  Prob (F-statistic):</th> <td>2.75e-05</td>\n",
              "</tr>\n",
              "<tr>\n",
              "  <th>Time:</th>                 <td>10:34:29</td>     <th>  Log-Likelihood:    </th> <td> -17.016</td>\n",
              "</tr>\n",
              "<tr>\n",
              "  <th>No. Observations:</th>      <td>    10</td>      <th>  AIC:               </th> <td>   38.03</td>\n",
              "</tr>\n",
              "<tr>\n",
              "  <th>Df Residuals:</th>          <td>     8</td>      <th>  BIC:               </th> <td>   38.64</td>\n",
              "</tr>\n",
              "<tr>\n",
              "  <th>Df Model:</th>              <td>     1</td>      <th>                     </th>     <td> </td>   \n",
              "</tr>\n",
              "<tr>\n",
              "  <th>Covariance Type:</th>      <td>nonrobust</td>    <th>                     </th>     <td> </td>   \n",
              "</tr>\n",
              "</table>\n",
              "<table class=\"simpletable\">\n",
              "<tr>\n",
              "    <td></td>       <th>coef</th>     <th>std err</th>      <th>t</th>      <th>P>|t|</th>  <th>[0.025</th>    <th>0.975]</th>  \n",
              "</tr>\n",
              "<tr>\n",
              "  <th>const</th> <td>   10.2000</td> <td>    0.663</td> <td>   15.377</td> <td> 0.000</td> <td>    8.670</td> <td>   11.730</td>\n",
              "</tr>\n",
              "<tr>\n",
              "  <th>X</th>     <td>    4.0000</td> <td>    0.469</td> <td>    8.528</td> <td> 0.000</td> <td>    2.918</td> <td>    5.082</td>\n",
              "</tr>\n",
              "</table>\n",
              "<table class=\"simpletable\">\n",
              "<tr>\n",
              "  <th>Omnibus:</th>       <td> 1.530</td> <th>  Durbin-Watson:     </th> <td>   1.875</td>\n",
              "</tr>\n",
              "<tr>\n",
              "  <th>Prob(Omnibus):</th> <td> 0.465</td> <th>  Jarque-Bera (JB):  </th> <td>   0.753</td>\n",
              "</tr>\n",
              "<tr>\n",
              "  <th>Skew:</th>          <td>-0.113</td> <th>  Prob(JB):          </th> <td>   0.686</td>\n",
              "</tr>\n",
              "<tr>\n",
              "  <th>Kurtosis:</th>      <td> 1.675</td> <th>  Cond. No.          </th> <td>    2.62</td>\n",
              "</tr>\n",
              "</table><br/><br/>Warnings:<br/>[1] Standard Errors assume that the covariance matrix of the errors is correctly specified."
            ],
            "text/plain": [
              "<class 'statsmodels.iolib.summary.Summary'>\n",
              "\"\"\"\n",
              "                            OLS Regression Results                            \n",
              "==============================================================================\n",
              "Dep. Variable:                      Y   R-squared:                       0.901\n",
              "Model:                            OLS   Adj. R-squared:                  0.889\n",
              "Method:                 Least Squares   F-statistic:                     72.73\n",
              "Date:                Tue, 02 Jun 2020   Prob (F-statistic):           2.75e-05\n",
              "Time:                        10:34:29   Log-Likelihood:                -17.016\n",
              "No. Observations:                  10   AIC:                             38.03\n",
              "Df Residuals:                       8   BIC:                             38.64\n",
              "Df Model:                           1                                         \n",
              "Covariance Type:            nonrobust                                         \n",
              "==============================================================================\n",
              "                 coef    std err          t      P>|t|      [0.025      0.975]\n",
              "------------------------------------------------------------------------------\n",
              "const         10.2000      0.663     15.377      0.000       8.670      11.730\n",
              "X              4.0000      0.469      8.528      0.000       2.918       5.082\n",
              "==============================================================================\n",
              "Omnibus:                        1.530   Durbin-Watson:                   1.875\n",
              "Prob(Omnibus):                  0.465   Jarque-Bera (JB):                0.753\n",
              "Skew:                          -0.113   Prob(JB):                        0.686\n",
              "Kurtosis:                       1.675   Cond. No.                         2.62\n",
              "==============================================================================\n",
              "\n",
              "Warnings:\n",
              "[1] Standard Errors assume that the covariance matrix of the errors is correctly specified.\n",
              "\"\"\""
            ]
          },
          "metadata": {
            "tags": []
          },
          "execution_count": 3
        }
      ]
    },
    {
      "cell_type": "code",
      "metadata": {
        "id": "soCtT8yEZXwv",
        "colab_type": "code",
        "colab": {
          "base_uri": "https://localhost:8080/",
          "height": 142
        },
        "outputId": "c069c62c-2f04-4525-d699-f232a60551c8"
      },
      "source": [
        "x_pred = [[1, 0], [1, 1], [1,2]]\n",
        "\n",
        "df_pred = results.get_prediction(x_pred).summary_frame(alpha=0.95)\n",
        "df_pred "
      ],
      "execution_count": 4,
      "outputs": [
        {
          "output_type": "execute_result",
          "data": {
            "text/html": [
              "<div>\n",
              "<style scoped>\n",
              "    .dataframe tbody tr th:only-of-type {\n",
              "        vertical-align: middle;\n",
              "    }\n",
              "\n",
              "    .dataframe tbody tr th {\n",
              "        vertical-align: top;\n",
              "    }\n",
              "\n",
              "    .dataframe thead th {\n",
              "        text-align: right;\n",
              "    }\n",
              "</style>\n",
              "<table border=\"1\" class=\"dataframe\">\n",
              "  <thead>\n",
              "    <tr style=\"text-align: right;\">\n",
              "      <th></th>\n",
              "      <th>mean</th>\n",
              "      <th>mean_se</th>\n",
              "      <th>mean_ci_lower</th>\n",
              "      <th>mean_ci_upper</th>\n",
              "      <th>obs_ci_lower</th>\n",
              "      <th>obs_ci_upper</th>\n",
              "    </tr>\n",
              "  </thead>\n",
              "  <tbody>\n",
              "    <tr>\n",
              "      <th>0</th>\n",
              "      <td>10.2</td>\n",
              "      <td>0.663325</td>\n",
              "      <td>10.157083</td>\n",
              "      <td>10.242917</td>\n",
              "      <td>10.094874</td>\n",
              "      <td>10.305126</td>\n",
              "    </tr>\n",
              "    <tr>\n",
              "      <th>1</th>\n",
              "      <td>14.2</td>\n",
              "      <td>0.469042</td>\n",
              "      <td>14.169653</td>\n",
              "      <td>14.230347</td>\n",
              "      <td>14.099350</td>\n",
              "      <td>14.300650</td>\n",
              "    </tr>\n",
              "    <tr>\n",
              "      <th>2</th>\n",
              "      <td>18.2</td>\n",
              "      <td>0.663325</td>\n",
              "      <td>18.157083</td>\n",
              "      <td>18.242917</td>\n",
              "      <td>18.094874</td>\n",
              "      <td>18.305126</td>\n",
              "    </tr>\n",
              "  </tbody>\n",
              "</table>\n",
              "</div>"
            ],
            "text/plain": [
              "   mean   mean_se  mean_ci_lower  mean_ci_upper  obs_ci_lower  obs_ci_upper\n",
              "0  10.2  0.663325      10.157083      10.242917     10.094874     10.305126\n",
              "1  14.2  0.469042      14.169653      14.230347     14.099350     14.300650\n",
              "2  18.2  0.663325      18.157083      18.242917     18.094874     18.305126"
            ]
          },
          "metadata": {
            "tags": []
          },
          "execution_count": 4
        }
      ]
    },
    {
      "cell_type": "markdown",
      "metadata": {
        "id": "d9jho_kslEnE",
        "colab_type": "text"
      },
      "source": [
        "# ***Q4.8***\n",
        "\n",
        "Part(a).\n",
        "\n"
      ]
    },
    {
      "cell_type": "code",
      "metadata": {
        "id": "EN8hMVRqmEKV",
        "colab_type": "code",
        "colab": {}
      },
      "source": [
        "F_statics= scipy.stats.f.ppf(q = 0.95, dfn = 2, dfd=8)\n",
        "W = math.sqrt(2*F_statics)\n",
        "\n",
        "B_statics = scipy.stats.t.ppf(q=1-0.05/6, df = 8)"
      ],
      "execution_count": 0,
      "outputs": []
    },
    {
      "cell_type": "code",
      "metadata": {
        "id": "H9Bj5HyCaStF",
        "colab_type": "code",
        "colab": {
          "base_uri": "https://localhost:8080/",
          "height": 204
        },
        "outputId": "913a164a-b3e6-467e-e33e-cc2f342d8f18"
      },
      "source": [
        "print(\"When Xh = 0, 1, 2\\n\")\n",
        "\n",
        "for i in range(3):\n",
        "\n",
        "  Y_h_hat = df_pred.iloc[i,0]\n",
        "  s_h_hat = df_pred.iloc[i,1]\n",
        "\n",
        "  print(\"Working Hotelling interval: \", \"\\n{} <= Y_h_hat <= {}\\n\".format(Y_h_hat-W*s_h_hat,Y_h_hat+W*s_h_hat))"
      ],
      "execution_count": 6,
      "outputs": [
        {
          "output_type": "stream",
          "text": [
            "When Xh = 0, 1, 2\n",
            "\n",
            "Working Hotelling interval:  \n",
            "8.219117950351013 <= Y_h_hat <= 12.180882049648986\n",
            "\n",
            "Working Hotelling interval:  \n",
            "12.799304869962496 <= Y_h_hat <= 15.600695130037506\n",
            "\n",
            "Working Hotelling interval:  \n",
            "16.219117950351016 <= Y_h_hat <= 20.18088204964899\n",
            "\n"
          ],
          "name": "stdout"
        }
      ]
    },
    {
      "cell_type": "markdown",
      "metadata": {
        "id": "kqlqNrAMlTfc",
        "colab_type": "text"
      },
      "source": [
        "Part(b).\n",
        "\n",
        "\"Bonferroni > Working-Hotelling\" means Working-Hotelling is more efficient."
      ]
    },
    {
      "cell_type": "code",
      "metadata": {
        "id": "hBe78tXwE0Uj",
        "colab_type": "code",
        "colab": {
          "base_uri": "https://localhost:8080/",
          "height": 51
        },
        "outputId": "5017b9cd-e387-4403-eeac-572b4df9eb85"
      },
      "source": [
        "print(\"Bonferroni: \", B_statics, \"\\nWorking-Hotelling: \", W)"
      ],
      "execution_count": 7,
      "outputs": [
        {
          "output_type": "stream",
          "text": [
            "Bonferroni:  3.0157618431577817 \n",
            "Working-Hotelling:  2.9862920511981113\n"
          ],
          "name": "stdout"
        }
      ]
    },
    {
      "cell_type": "markdown",
      "metadata": {
        "id": "5qtERVyNln2S",
        "colab_type": "text"
      },
      "source": [
        "Part(c)."
      ]
    },
    {
      "cell_type": "code",
      "metadata": {
        "id": "FY44geZYmHXI",
        "colab_type": "code",
        "colab": {}
      },
      "source": [
        "F_statics= scipy.stats.f.ppf(q = 0.95, dfn = 3, dfd=8)\n",
        "Sche_statics = math.sqrt(3*F_statics)\n",
        "\n",
        "B_statics = scipy.stats.t.ppf(q=1-0.05/6, df = 8)\n",
        "\n",
        "mse = sum(results.resid**2)/8"
      ],
      "execution_count": 0,
      "outputs": []
    },
    {
      "cell_type": "code",
      "metadata": {
        "id": "GrmvdKr0bMGK",
        "colab_type": "code",
        "colab": {
          "base_uri": "https://localhost:8080/",
          "height": 204
        },
        "outputId": "12bd9e51-f4e1-4326-bd5b-9a54901556a0"
      },
      "source": [
        "print(\"When Xh = 0, 1, 2\\n\")\n",
        "\n",
        "for i in range(3):\n",
        "\n",
        "  Y_hat_new = df_pred.iloc[i,0]\n",
        "  s_pred = math.sqrt(mse + (df_pred.iloc[i,1])**2)\n",
        "\n",
        "  print(\"Scheffe Procedure: \", \"\\n{} <= Y_h_hat <= {}\\n\".format(Y_hat_new-Sche_statics*s_pred, Y_hat_new+Sche_statics*s_pred))"
      ],
      "execution_count": 9,
      "outputs": [
        {
          "output_type": "stream",
          "text": [
            "When Xh = 0, 1, 2\n",
            "\n",
            "Scheffe Procedure:  \n",
            "4.525129960369031 <= Y_h_hat <= 15.874870039630967\n",
            "\n",
            "Scheffe Procedure:  \n",
            "8.766725591063027 <= Y_h_hat <= 19.633274408936977\n",
            "\n",
            "Scheffe Procedure:  \n",
            "12.525129960369034 <= Y_h_hat <= 23.87487003963097\n",
            "\n"
          ],
          "name": "stdout"
        }
      ]
    },
    {
      "cell_type": "markdown",
      "metadata": {
        "id": "jwJIzH9LlqoS",
        "colab_type": "text"
      },
      "source": [
        "Part(d).\n",
        "\n",
        "\"Bonferroni < Scheffe\" means Bonferroni is more efficient."
      ]
    },
    {
      "cell_type": "code",
      "metadata": {
        "id": "UDLl5QDta14X",
        "colab_type": "code",
        "colab": {
          "base_uri": "https://localhost:8080/",
          "height": 51
        },
        "outputId": "8ba31bb6-55c1-4c5f-e2fe-b33531dd8a3c"
      },
      "source": [
        "print(\"Bonferroni: \", B_statics, \"\\nScheffe: \", Sche_statics)"
      ],
      "execution_count": 10,
      "outputs": [
        {
          "output_type": "stream",
          "text": [
            "Bonferroni:  3.0157618431577817 \n",
            "Scheffe:  3.492641071460605\n"
          ],
          "name": "stdout"
        }
      ]
    },
    {
      "cell_type": "code",
      "metadata": {
        "id": "aOb2XUyYJoht",
        "colab_type": "code",
        "colab": {}
      },
      "source": [
        ""
      ],
      "execution_count": 0,
      "outputs": []
    }
  ]
}