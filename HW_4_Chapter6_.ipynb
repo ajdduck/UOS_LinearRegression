{
  "nbformat": 4,
  "nbformat_minor": 0,
  "metadata": {
    "colab": {
      "name": "HW#4_Chapter6..ipynb",
      "provenance": [],
      "mount_file_id": "1RkuMldjQIm60BtDWPGytH6xFN0sMxypw",
      "authorship_tag": "ABX9TyO6JRlpLfvYZoePm1gG67Hf",
      "include_colab_link": true
    },
    "kernelspec": {
      "name": "python3",
      "display_name": "Python 3"
    }
  },
  "cells": [
    {
      "cell_type": "markdown",
      "metadata": {
        "id": "view-in-github",
        "colab_type": "text"
      },
      "source": [
        "<a href=\"https://colab.research.google.com/github/ajdduck/UOS_LinearRegression/blob/master/HW_4_Chapter6_.ipynb\" target=\"_parent\"><img src=\"https://colab.research.google.com/assets/colab-badge.svg\" alt=\"Open In Colab\"/></a>"
      ]
    },
    {
      "cell_type": "code",
      "metadata": {
        "id": "xGJkdq0mgJQe",
        "colab_type": "code",
        "colab": {
          "base_uri": "https://localhost:8080/",
          "height": 71
        },
        "outputId": "239d5c5a-2951-4378-ac9f-99c5ff9d4f7f"
      },
      "source": [
        "%matplotlib inline\n",
        "\n",
        "import numpy as np\n",
        "import pandas as pd\n",
        "import statsmodels.api as sm\n",
        "import matplotlib.pyplot as plt\n",
        "import seaborn as sns\n",
        "import scipy.stats\n",
        "import math"
      ],
      "execution_count": 1,
      "outputs": [
        {
          "output_type": "stream",
          "text": [
            "/usr/local/lib/python3.6/dist-packages/statsmodels/tools/_testing.py:19: FutureWarning: pandas.util.testing is deprecated. Use the functions in the public API at pandas.testing instead.\n",
            "  import pandas.util.testing as tm\n"
          ],
          "name": "stderr"
        }
      ]
    },
    {
      "cell_type": "code",
      "metadata": {
        "id": "2wTmpAYKgWiK",
        "colab_type": "code",
        "colab": {
          "base_uri": "https://localhost:8080/",
          "height": 204
        },
        "outputId": "8009744a-7aba-431a-aa79-8ec2b8f16a76"
      },
      "source": [
        "df = pd.read_csv(\"/content/drive/My Drive/grocery_retailer.txt\", sep='\\t', names=[\"Y\", \"X1\", \"X2\", \"X3\"])\n",
        "df.head()"
      ],
      "execution_count": 2,
      "outputs": [
        {
          "output_type": "execute_result",
          "data": {
            "text/html": [
              "<div>\n",
              "<style scoped>\n",
              "    .dataframe tbody tr th:only-of-type {\n",
              "        vertical-align: middle;\n",
              "    }\n",
              "\n",
              "    .dataframe tbody tr th {\n",
              "        vertical-align: top;\n",
              "    }\n",
              "\n",
              "    .dataframe thead th {\n",
              "        text-align: right;\n",
              "    }\n",
              "</style>\n",
              "<table border=\"1\" class=\"dataframe\">\n",
              "  <thead>\n",
              "    <tr style=\"text-align: right;\">\n",
              "      <th></th>\n",
              "      <th>Y</th>\n",
              "      <th>X1</th>\n",
              "      <th>X2</th>\n",
              "      <th>X3</th>\n",
              "    </tr>\n",
              "  </thead>\n",
              "  <tbody>\n",
              "    <tr>\n",
              "      <th>0</th>\n",
              "      <td>4264</td>\n",
              "      <td>305657</td>\n",
              "      <td>7.17</td>\n",
              "      <td>0</td>\n",
              "    </tr>\n",
              "    <tr>\n",
              "      <th>1</th>\n",
              "      <td>4496</td>\n",
              "      <td>328476</td>\n",
              "      <td>6.20</td>\n",
              "      <td>0</td>\n",
              "    </tr>\n",
              "    <tr>\n",
              "      <th>2</th>\n",
              "      <td>4317</td>\n",
              "      <td>317164</td>\n",
              "      <td>4.61</td>\n",
              "      <td>0</td>\n",
              "    </tr>\n",
              "    <tr>\n",
              "      <th>3</th>\n",
              "      <td>4292</td>\n",
              "      <td>366745</td>\n",
              "      <td>7.02</td>\n",
              "      <td>0</td>\n",
              "    </tr>\n",
              "    <tr>\n",
              "      <th>4</th>\n",
              "      <td>4945</td>\n",
              "      <td>265518</td>\n",
              "      <td>8.61</td>\n",
              "      <td>1</td>\n",
              "    </tr>\n",
              "  </tbody>\n",
              "</table>\n",
              "</div>"
            ],
            "text/plain": [
              "      Y      X1    X2  X3\n",
              "0  4264  305657  7.17   0\n",
              "1  4496  328476  6.20   0\n",
              "2  4317  317164  4.61   0\n",
              "3  4292  366745  7.02   0\n",
              "4  4945  265518  8.61   1"
            ]
          },
          "metadata": {
            "tags": []
          },
          "execution_count": 2
        }
      ]
    },
    {
      "cell_type": "markdown",
      "metadata": {
        "id": "xfw7cz83HOXn",
        "colab_type": "text"
      },
      "source": [
        "# ***Q6.10***\n",
        "\n",
        "Part(a) Y_hat = 4149.8872 + 0.008X1 - 13.1660X2 + 623.5545X3"
      ]
    },
    {
      "cell_type": "code",
      "metadata": {
        "id": "V3xQy5gUg-Ji",
        "colab_type": "code",
        "colab": {}
      },
      "source": [
        "y = df['Y']\n",
        "X = df[['X1', 'X2', 'X3']]\n",
        "\n",
        "X = sm.add_constant(X)"
      ],
      "execution_count": 0,
      "outputs": []
    },
    {
      "cell_type": "code",
      "metadata": {
        "id": "H9SWb0Rdhzx0",
        "colab_type": "code",
        "colab": {}
      },
      "source": [
        "model = sm.OLS(y, X)\n",
        "results = model.fit()"
      ],
      "execution_count": 0,
      "outputs": []
    },
    {
      "cell_type": "code",
      "metadata": {
        "id": "hPM69XwuiErG",
        "colab_type": "code",
        "colab": {
          "base_uri": "https://localhost:8080/",
          "height": 520
        },
        "outputId": "7a5972ff-f813-410a-8546-edc9a57cb043"
      },
      "source": [
        "results.summary()"
      ],
      "execution_count": 5,
      "outputs": [
        {
          "output_type": "execute_result",
          "data": {
            "text/html": [
              "<table class=\"simpletable\">\n",
              "<caption>OLS Regression Results</caption>\n",
              "<tr>\n",
              "  <th>Dep. Variable:</th>            <td>Y</td>        <th>  R-squared:         </th> <td>   0.688</td>\n",
              "</tr>\n",
              "<tr>\n",
              "  <th>Model:</th>                   <td>OLS</td>       <th>  Adj. R-squared:    </th> <td>   0.669</td>\n",
              "</tr>\n",
              "<tr>\n",
              "  <th>Method:</th>             <td>Least Squares</td>  <th>  F-statistic:       </th> <td>   35.34</td>\n",
              "</tr>\n",
              "<tr>\n",
              "  <th>Date:</th>             <td>Tue, 02 Jun 2020</td> <th>  Prob (F-statistic):</th> <td>3.32e-12</td>\n",
              "</tr>\n",
              "<tr>\n",
              "  <th>Time:</th>                 <td>09:00:33</td>     <th>  Log-Likelihood:    </th> <td> -329.88</td>\n",
              "</tr>\n",
              "<tr>\n",
              "  <th>No. Observations:</th>      <td>    52</td>      <th>  AIC:               </th> <td>   667.8</td>\n",
              "</tr>\n",
              "<tr>\n",
              "  <th>Df Residuals:</th>          <td>    48</td>      <th>  BIC:               </th> <td>   675.6</td>\n",
              "</tr>\n",
              "<tr>\n",
              "  <th>Df Model:</th>              <td>     3</td>      <th>                     </th>     <td> </td>   \n",
              "</tr>\n",
              "<tr>\n",
              "  <th>Covariance Type:</th>      <td>nonrobust</td>    <th>                     </th>     <td> </td>   \n",
              "</tr>\n",
              "</table>\n",
              "<table class=\"simpletable\">\n",
              "<tr>\n",
              "    <td></td>       <th>coef</th>     <th>std err</th>      <th>t</th>      <th>P>|t|</th>  <th>[0.025</th>    <th>0.975]</th>  \n",
              "</tr>\n",
              "<tr>\n",
              "  <th>const</th> <td> 4149.8872</td> <td>  195.565</td> <td>   21.220</td> <td> 0.000</td> <td> 3756.677</td> <td> 4543.098</td>\n",
              "</tr>\n",
              "<tr>\n",
              "  <th>X1</th>    <td>    0.0008</td> <td>    0.000</td> <td>    2.159</td> <td> 0.036</td> <td> 5.41e-05</td> <td>    0.002</td>\n",
              "</tr>\n",
              "<tr>\n",
              "  <th>X2</th>    <td>  -13.1660</td> <td>   23.092</td> <td>   -0.570</td> <td> 0.571</td> <td>  -59.595</td> <td>   33.263</td>\n",
              "</tr>\n",
              "<tr>\n",
              "  <th>X3</th>    <td>  623.5545</td> <td>   62.641</td> <td>    9.954</td> <td> 0.000</td> <td>  497.606</td> <td>  749.503</td>\n",
              "</tr>\n",
              "</table>\n",
              "<table class=\"simpletable\">\n",
              "<tr>\n",
              "  <th>Omnibus:</th>       <td> 1.532</td> <th>  Durbin-Watson:     </th> <td>   2.298</td>\n",
              "</tr>\n",
              "<tr>\n",
              "  <th>Prob(Omnibus):</th> <td> 0.465</td> <th>  Jarque-Bera (JB):  </th> <td>   1.504</td>\n",
              "</tr>\n",
              "<tr>\n",
              "  <th>Skew:</th>          <td> 0.332</td> <th>  Prob(JB):          </th> <td>   0.471</td>\n",
              "</tr>\n",
              "<tr>\n",
              "  <th>Kurtosis:</th>      <td> 2.496</td> <th>  Cond. No.          </th> <td>3.04e+06</td>\n",
              "</tr>\n",
              "</table><br/><br/>Warnings:<br/>[1] Standard Errors assume that the covariance matrix of the errors is correctly specified.<br/>[2] The condition number is large, 3.04e+06. This might indicate that there are<br/>strong multicollinearity or other numerical problems."
            ],
            "text/plain": [
              "<class 'statsmodels.iolib.summary.Summary'>\n",
              "\"\"\"\n",
              "                            OLS Regression Results                            \n",
              "==============================================================================\n",
              "Dep. Variable:                      Y   R-squared:                       0.688\n",
              "Model:                            OLS   Adj. R-squared:                  0.669\n",
              "Method:                 Least Squares   F-statistic:                     35.34\n",
              "Date:                Tue, 02 Jun 2020   Prob (F-statistic):           3.32e-12\n",
              "Time:                        09:00:33   Log-Likelihood:                -329.88\n",
              "No. Observations:                  52   AIC:                             667.8\n",
              "Df Residuals:                      48   BIC:                             675.6\n",
              "Df Model:                           3                                         \n",
              "Covariance Type:            nonrobust                                         \n",
              "==============================================================================\n",
              "                 coef    std err          t      P>|t|      [0.025      0.975]\n",
              "------------------------------------------------------------------------------\n",
              "const       4149.8872    195.565     21.220      0.000    3756.677    4543.098\n",
              "X1             0.0008      0.000      2.159      0.036    5.41e-05       0.002\n",
              "X2           -13.1660     23.092     -0.570      0.571     -59.595      33.263\n",
              "X3           623.5545     62.641      9.954      0.000     497.606     749.503\n",
              "==============================================================================\n",
              "Omnibus:                        1.532   Durbin-Watson:                   2.298\n",
              "Prob(Omnibus):                  0.465   Jarque-Bera (JB):                1.504\n",
              "Skew:                           0.332   Prob(JB):                        0.471\n",
              "Kurtosis:                       2.496   Cond. No.                     3.04e+06\n",
              "==============================================================================\n",
              "\n",
              "Warnings:\n",
              "[1] Standard Errors assume that the covariance matrix of the errors is correctly specified.\n",
              "[2] The condition number is large, 3.04e+06. This might indicate that there are\n",
              "strong multicollinearity or other numerical problems.\n",
              "\"\"\""
            ]
          },
          "metadata": {
            "tags": []
          },
          "execution_count": 5
        }
      ]
    },
    {
      "cell_type": "code",
      "metadata": {
        "id": "yy8XzVv2iHPD",
        "colab_type": "code",
        "colab": {
          "base_uri": "https://localhost:8080/",
          "height": 204
        },
        "outputId": "1468af05-9b96-4b8b-95dd-a56bcf3e5bd4"
      },
      "source": [
        "results_residual = results.resid.to_frame(name=\"residuals\")\n",
        "results_residual.head()"
      ],
      "execution_count": 6,
      "outputs": [
        {
          "output_type": "execute_result",
          "data": {
            "text/html": [
              "<div>\n",
              "<style scoped>\n",
              "    .dataframe tbody tr th:only-of-type {\n",
              "        vertical-align: middle;\n",
              "    }\n",
              "\n",
              "    .dataframe tbody tr th {\n",
              "        vertical-align: top;\n",
              "    }\n",
              "\n",
              "    .dataframe thead th {\n",
              "        text-align: right;\n",
              "    }\n",
              "</style>\n",
              "<table border=\"1\" class=\"dataframe\">\n",
              "  <thead>\n",
              "    <tr style=\"text-align: right;\">\n",
              "      <th></th>\n",
              "      <th>residuals</th>\n",
              "    </tr>\n",
              "  </thead>\n",
              "  <tbody>\n",
              "    <tr>\n",
              "      <th>0</th>\n",
              "      <td>-32.063483</td>\n",
              "    </tr>\n",
              "    <tr>\n",
              "      <th>1</th>\n",
              "      <td>169.205091</td>\n",
              "    </tr>\n",
              "    <tr>\n",
              "      <th>2</th>\n",
              "      <td>-21.825426</td>\n",
              "    </tr>\n",
              "    <tr>\n",
              "      <th>3</th>\n",
              "      <td>-54.119552</td>\n",
              "    </tr>\n",
              "    <tr>\n",
              "      <th>4</th>\n",
              "      <td>75.933724</td>\n",
              "    </tr>\n",
              "  </tbody>\n",
              "</table>\n",
              "</div>"
            ],
            "text/plain": [
              "    residuals\n",
              "0  -32.063483\n",
              "1  169.205091\n",
              "2  -21.825426\n",
              "3  -54.119552\n",
              "4   75.933724"
            ]
          },
          "metadata": {
            "tags": []
          },
          "execution_count": 6
        }
      ]
    },
    {
      "cell_type": "markdown",
      "metadata": {
        "id": "BcErUsCxIfdA",
        "colab_type": "text"
      },
      "source": [
        "Part(b). the Boxplot shows no outlier."
      ]
    },
    {
      "cell_type": "code",
      "metadata": {
        "id": "xCF5vD3UjG7B",
        "colab_type": "code",
        "colab": {
          "base_uri": "https://localhost:8080/",
          "height": 282
        },
        "outputId": "e1e45de0-b817-47da-9cc2-17413011757f"
      },
      "source": [
        "sns.boxplot(data = results_residual)"
      ],
      "execution_count": 7,
      "outputs": [
        {
          "output_type": "execute_result",
          "data": {
            "text/plain": [
              "<matplotlib.axes._subplots.AxesSubplot at 0x7f307f6b15c0>"
            ]
          },
          "metadata": {
            "tags": []
          },
          "execution_count": 7
        },
        {
          "output_type": "display_data",
          "data": {
            "image/png": "[encoded data removed]",
            "text/plain": [
              "<Figure size 432x288 with 1 Axes>"
            ]
          },
          "metadata": {
            "tags": [],
            "needs_background": "light"
          }
        }
      ]
    },
    {
      "cell_type": "markdown",
      "metadata": {
        "id": "kY5wYnCgIldL",
        "colab_type": "text"
      },
      "source": [
        "Part(c). the residual plot against Y_hat shows that the data are largely divided into two parts. That is because X3 is qualitative predictor called holiday(0 or 1). If We refer to the residual plot against X3, we can understand the residual plot against Y_hat well.\n",
        "\n",
        "Wheras, the Nomal probability plot shows normaility of error terms. If We refer to the correlation value \"0.9911684736547595\", we can understand the normality of error term well.\n"
      ]
    },
    {
      "cell_type": "code",
      "metadata": {
        "id": "TbTBkiHql8iT",
        "colab_type": "code",
        "colab": {
          "base_uri": "https://localhost:8080/",
          "height": 280
        },
        "outputId": "ee1d5709-b061-4296-88f8-4a87eb3eaa74"
      },
      "source": [
        "# the residual plot against Y_hat \n",
        "\n",
        "plt.scatter(x = results.fittedvalues, y = results.resid)\n",
        "plt.axhline(y = 0, color = 'red', linestyle = '--', linewidth = 1)\n",
        "plt.xlabel(\"Y_hat\")\n",
        "plt.ylabel(\"results_residual\")\n",
        "plt.show()"
      ],
      "execution_count": 8,
      "outputs": [
        {
          "output_type": "display_data",
          "data": {
            "image/png": "[encoded data removed]",
            "text/plain": [
              "<Figure size 432x288 with 1 Axes>"
            ]
          },
          "metadata": {
            "tags": [],
            "needs_background": "light"
          }
        }
      ]
    },
    {
      "cell_type": "code",
      "metadata": {
        "id": "4Tp7P3pKo6CQ",
        "colab_type": "code",
        "colab": {
          "base_uri": "https://localhost:8080/",
          "height": 279
        },
        "outputId": "5b2646d1-e21b-440c-ea64-12b2269a2101"
      },
      "source": [
        "# the residual plot against X1\n",
        " \n",
        "plt.scatter(x = df[\"X1\"], y = results.resid)\n",
        "plt.axhline(y = 0, color = 'red', linestyle = '--', linewidth = 1)\n",
        "plt.xlabel(\"X1\")\n",
        "plt.ylabel(\"results_residual\")\n",
        "plt.show()"
      ],
      "execution_count": 9,
      "outputs": [
        {
          "output_type": "display_data",
          "data": {
            "image/png": "[encoded data removed]",
            "text/plain": [
              "<Figure size 432x288 with 1 Axes>"
            ]
          },
          "metadata": {
            "tags": [],
            "needs_background": "light"
          }
        }
      ]
    },
    {
      "cell_type": "code",
      "metadata": {
        "id": "GX-383CvpTWJ",
        "colab_type": "code",
        "colab": {
          "base_uri": "https://localhost:8080/",
          "height": 279
        },
        "outputId": "6b2bb0e2-7908-449e-b276-0ffb609a3c9d"
      },
      "source": [
        "# the residual plot against X2\n",
        "\n",
        "plt.scatter(x = df[\"X2\"], y = results.resid)\n",
        "plt.axhline(y = 0, color = 'red', linestyle = '--', linewidth = 1)\n",
        "plt.xlabel(\"X2\")\n",
        "plt.ylabel(\"results_residual\")\n",
        "plt.show()"
      ],
      "execution_count": 10,
      "outputs": [
        {
          "output_type": "display_data",
          "data": {
            "image/png": "[encoded data removed]",
            "text/plain": [
              "<Figure size 432x288 with 1 Axes>"
            ]
          },
          "metadata": {
            "tags": [],
            "needs_background": "light"
          }
        }
      ]
    },
    {
      "cell_type": "code",
      "metadata": {
        "id": "28VYu5KrpXCX",
        "colab_type": "code",
        "colab": {
          "base_uri": "https://localhost:8080/",
          "height": 279
        },
        "outputId": "eb03eec9-481c-43ac-8d2c-6834fcf9af4a"
      },
      "source": [
        "# the residual plot against X3\n",
        "\n",
        "plt.scatter(x = df[\"X3\"], y = results.resid)\n",
        "plt.axhline(y = 0, color = 'red', linestyle = '--', linewidth = 1)\n",
        "plt.xlabel(\"X3\")\n",
        "plt.ylabel(\"results_residual\")\n",
        "plt.show()"
      ],
      "execution_count": 11,
      "outputs": [
        {
          "output_type": "display_data",
          "data": {
            "image/png": "[encoded data removed]",
            "text/plain": [
              "<Figure size 432x288 with 1 Axes>"
            ]
          },
          "metadata": {
            "tags": [],
            "needs_background": "light"
          }
        }
      ]
    },
    {
      "cell_type": "code",
      "metadata": {
        "id": "GDL9I7vwpY2i",
        "colab_type": "code",
        "colab": {
          "base_uri": "https://localhost:8080/",
          "height": 279
        },
        "outputId": "010a91cb-367c-47d7-8bcd-5e2b84f0bf97"
      },
      "source": [
        "# the residual plot against X1X2\n",
        "\n",
        "plt.scatter(x = df[\"X2\"]*df[\"X1\"], y = results.resid)\n",
        "plt.axhline(y = 0, color = 'red', linestyle = '--', linewidth = 1)\n",
        "plt.xlabel(\"X1X2\")\n",
        "plt.ylabel(\"results_residual\")\n",
        "plt.show()"
      ],
      "execution_count": 12,
      "outputs": [
        {
          "output_type": "display_data",
          "data": {
            "image/png": "[encoded data removed]",
            "text/plain": [
              "<Figure size 432x288 with 1 Axes>"
            ]
          },
          "metadata": {
            "tags": [],
            "needs_background": "light"
          }
        }
      ]
    },
    {
      "cell_type": "code",
      "metadata": {
        "id": "dJ7xHXMjpe4n",
        "colab_type": "code",
        "colab": {
          "base_uri": "https://localhost:8080/",
          "height": 639
        },
        "outputId": "c128e64f-3f50-47ed-a490-d2675ffd65e3"
      },
      "source": [
        "# the Nomal probability plot\n",
        "\n",
        "fig, ax = plt.subplots(figsize=(6,2.5))\n",
        "scipy.stats.probplot(results.resid, dist='norm', plot=ax, fit=True)"
      ],
      "execution_count": 13,
      "outputs": [
        {
          "output_type": "execute_result",
          "data": {
            "text/plain": [
              "((array([-2.21906046, -1.85036834, -1.63307165, -1.47338453, -1.34433269,\n",
              "         -1.23445265, -1.1377432 , -1.05064606, -0.97086677, -0.89683292,\n",
              "         -0.82741562, -0.76177387, -0.69926181, -0.63937059, -0.58169027,\n",
              "         -0.52588404, -0.47167018, -0.41880907, -0.3670937 , -0.31634247,\n",
              "         -0.26639369, -0.2171012 , -0.16833095, -0.11995805, -0.0718644 ,\n",
              "         -0.02393648,  0.02393648,  0.0718644 ,  0.11995805,  0.16833095,\n",
              "          0.2171012 ,  0.26639369,  0.31634247,  0.3670937 ,  0.41880907,\n",
              "          0.47167018,  0.52588404,  0.58169027,  0.63937059,  0.69926181,\n",
              "          0.76177387,  0.82741562,  0.89683292,  0.97086677,  1.05064606,\n",
              "          1.1377432 ,  1.23445265,  1.34433269,  1.47338453,  1.63307165,\n",
              "          1.85036834,  2.21906046]),\n",
              "  array([-264.05302405, -229.05531065, -215.53562892, -184.87762894,\n",
              "         -183.56597191, -166.98338133, -156.6844008 , -144.90153624,\n",
              "         -139.28465869, -138.9782707 , -136.69101859, -120.27973216,\n",
              "         -117.07667673, -108.60935901,  -80.50888809,  -75.86315378,\n",
              "          -67.76311815,  -59.17378218,  -58.39863043,  -54.1195519 ,\n",
              "          -49.1652103 ,  -33.54059777,  -32.06348266,  -28.75331231,\n",
              "          -23.51966103,  -23.21476291,  -21.82542573,    2.73130153,\n",
              "           11.66216661,   22.97564399,   28.00066014,   29.06588734,\n",
              "           37.77270164,   48.80755814,   55.19755489,   61.30325051,\n",
              "           64.51680964,   75.93372368,   78.86928143,   80.5555155 ,\n",
              "           80.56985407,  107.39930906,  108.94794292,  132.0598424 ,\n",
              "          169.2050915 ,  178.5680964 ,  218.75274229,  225.69784904,\n",
              "          235.96079416,  275.78354557,  288.39723412,  295.75181951])),\n",
              " (141.32192738450652, 2.1632524587955458e-09, 0.9911684736547595))"
            ]
          },
          "metadata": {
            "tags": []
          },
          "execution_count": 13
        },
        {
          "output_type": "display_data",
          "data": {
            "image/png": "[encoded data removed]",
            "text/plain": [
              "<Figure size 432x180 with 1 Axes>"
            ]
          },
          "metadata": {
            "tags": [],
            "needs_background": "light"
          }
        }
      ]
    },
    {
      "cell_type": "markdown",
      "metadata": {
        "id": "V78TyAb3L1N8",
        "colab_type": "text"
      },
      "source": [
        "Part(d). No Correlation."
      ]
    },
    {
      "cell_type": "code",
      "metadata": {
        "id": "7PvGw7UUqidv",
        "colab_type": "code",
        "colab": {
          "base_uri": "https://localhost:8080/",
          "height": 295
        },
        "outputId": "13351d05-7a81-4af7-f584-ff3141ae84c0"
      },
      "source": [
        "# the time plot of the residuals\n",
        "\n",
        "plt.plot(results_residual)\n",
        "plt.axhline(y = 0, color = 'red', linestyle = '--', linewidth = 1)\n",
        "plt.xlabel(\"i\")\n",
        "plt.ylabel(\"results_residual\")\n",
        "plt.title(\"the Time plot for results_redsidual\")\n",
        "plt.show()"
      ],
      "execution_count": 14,
      "outputs": [
        {
          "output_type": "display_data",
          "data": {
            "image/png": "[encoded data removed]",
            "text/plain": [
              "<Figure size 432x288 with 1 Axes>"
            ]
          },
          "metadata": {
            "tags": [],
            "needs_background": "light"
          }
        }
      ]
    },
    {
      "cell_type": "markdown",
      "metadata": {
        "id": "MIX4CqOWME3B",
        "colab_type": "text"
      },
      "source": [
        "Part(e). Brown-Forthyse Test\n",
        "\n",
        "t_statistic = 2.9859360416359526\n",
        "\n",
        "t_critical_value = 2.6777932709408425\n",
        "\n",
        "\"t_statistic > t_critical_value\" means the error variance is Not constant."
      ]
    },
    {
      "cell_type": "code",
      "metadata": {
        "id": "u6jyy9kYrX4A",
        "colab_type": "code",
        "colab": {}
      },
      "source": [
        "# Brown-Forthyse \n",
        "\n",
        "df_BF = pd.DataFrame({\"Y_hat\": results.fittedvalues, \"residual\": results.resid})\n",
        "df_BF.sort_values(by=['Y_hat'], inplace=True)"
      ],
      "execution_count": 0,
      "outputs": []
    },
    {
      "cell_type": "code",
      "metadata": {
        "id": "mVcb8mFVul_Q",
        "colab_type": "code",
        "colab": {}
      },
      "source": [
        "df_BF_small = df_BF.copy()\n",
        "df_BF_small = df_BF_small.iloc[:26, :]\n",
        "\n",
        "df_BF_big = df_BF.copy()\n",
        "df_BF_big = df_BF_big.iloc[26:, :]"
      ],
      "execution_count": 0,
      "outputs": []
    },
    {
      "cell_type": "code",
      "metadata": {
        "id": "8wzSgMZVw0I9",
        "colab_type": "code",
        "colab": {}
      },
      "source": [
        "small_median = df_BF_small[\"residual\"].median()\n",
        "big_median = df_BF_big[\"residual\"].median()\n",
        "\n",
        "di_small = abs(df_BF_small['residual'] - small_median)\n",
        "di_big = abs(df_BF_big['residual'] - big_median)"
      ],
      "execution_count": 0,
      "outputs": []
    },
    {
      "cell_type": "code",
      "metadata": {
        "id": "H8VVYvHrxU0H",
        "colab_type": "code",
        "colab": {
          "base_uri": "https://localhost:8080/",
          "height": 34
        },
        "outputId": "49368f34-62d4-45e0-981e-3459c41c6c44"
      },
      "source": [
        "ttest_result = scipy.stats.ttest_ind(di_small, di_big, equal_var = True)\n",
        "ttest_result"
      ],
      "execution_count": 18,
      "outputs": [
        {
          "output_type": "execute_result",
          "data": {
            "text/plain": [
              "Ttest_indResult(statistic=2.9859360416359526, pvalue=0.004368743026636409)"
            ]
          },
          "metadata": {
            "tags": []
          },
          "execution_count": 18
        }
      ]
    },
    {
      "cell_type": "code",
      "metadata": {
        "id": "EdFwfTAKyCaX",
        "colab_type": "code",
        "colab": {
          "base_uri": "https://localhost:8080/",
          "height": 34
        },
        "outputId": "76fd8b20-f0e8-4748-a774-0ea43c33d832"
      },
      "source": [
        "t_critical_value = scipy.stats.t.ppf(q=1-0.01/2, df = 50)\n",
        "t_critical_value"
      ],
      "execution_count": 19,
      "outputs": [
        {
          "output_type": "execute_result",
          "data": {
            "text/plain": [
              "2.6777932709408425"
            ]
          },
          "metadata": {
            "tags": []
          },
          "execution_count": 19
        }
      ]
    },
    {
      "cell_type": "markdown",
      "metadata": {
        "id": "a8Ag6vbFM8mB",
        "colab_type": "text"
      },
      "source": [
        "# ***Q6.11***\n",
        "\n",
        "Part(a).\n",
        "\n",
        "F_statistics = 35.33703468\n",
        "\n",
        "F_critical_value = 2.79806063543561\n",
        "\n",
        "\"F_statistics > F_critical_value\" means Y ~ X1, X2, X3 have linear relation.\n",
        "\n",
        "and given that p-value = p=3.3157080087281993e-12, linear relation has more meaning."
      ]
    },
    {
      "cell_type": "code",
      "metadata": {
        "id": "7GRsQLGjysxW",
        "colab_type": "code",
        "colab": {
          "base_uri": "https://localhost:8080/",
          "height": 51
        },
        "outputId": "bf8a4b27-17f3-4a55-c7ab-e9910c8a11f9"
      },
      "source": [
        "# F-test\n",
        "\n",
        "A = np.identity(len(results.params))\n",
        "A = A[1:,:]\n",
        "\n",
        "results.f_test(A)"
      ],
      "execution_count": 20,
      "outputs": [
        {
          "output_type": "execute_result",
          "data": {
            "text/plain": [
              "<class 'statsmodels.stats.contrast.ContrastResults'>\n",
              "<F test: F=array([[35.33703468]]), p=3.3157080087281993e-12, df_denom=48, df_num=3>"
            ]
          },
          "metadata": {
            "tags": []
          },
          "execution_count": 20
        }
      ]
    },
    {
      "cell_type": "code",
      "metadata": {
        "id": "Fuy289CM1UMZ",
        "colab_type": "code",
        "colab": {
          "base_uri": "https://localhost:8080/",
          "height": 34
        },
        "outputId": "9c8c9068-5f8b-411e-d8de-f691aef6636e"
      },
      "source": [
        "F_critical_value = scipy.stats.f.ppf(q = 0.95, dfn = 3, dfd = 48)\n",
        "F_critical_value"
      ],
      "execution_count": 21,
      "outputs": [
        {
          "output_type": "execute_result",
          "data": {
            "text/plain": [
              "2.79806063543561"
            ]
          },
          "metadata": {
            "tags": []
          },
          "execution_count": 21
        }
      ]
    },
    {
      "cell_type": "markdown",
      "metadata": {
        "id": "tm3jV4UkONyK",
        "colab_type": "text"
      },
      "source": [
        "Part(b). Bonferroni procedure\n",
        "\n",
        "Bonferroni joint confidence interval for beta0: \n",
        "\n",
        "-5.646079984724967e-05 <= beta1 <= 0.0016306215635241029 \n",
        "\n",
        "Bonferroni joint confidence interval for beta0:  \n",
        "\n",
        "478.6096487395398 <= beta3 <= 768.4993127368011\n",
        "\n",
        "The results show that we are 95% confident that all the 2 CIs contain beta1 and beta2.\n"
      ]
    },
    {
      "cell_type": "code",
      "metadata": {
        "id": "AeLVEI6T17fl",
        "colab_type": "code",
        "colab": {}
      },
      "source": [
        "# Bonferroni procedure\n",
        "\n",
        "B_statics = scipy.stats.t.ppf(q=1-0.05/4, df=48)\n",
        "\n",
        "b1 = results.params[1]\n",
        "b3 = results.params[3]\n",
        "\n",
        "s_b1 = results.bse[1]\n",
        "s_b3 = results.bse[3]"
      ],
      "execution_count": 0,
      "outputs": []
    },
    {
      "cell_type": "code",
      "metadata": {
        "id": "A51evmAr5B50",
        "colab_type": "code",
        "colab": {
          "base_uri": "https://localhost:8080/",
          "height": 102
        },
        "outputId": "a59ec259-fb37-4c86-a66d-dc5c3ea5c879"
      },
      "source": [
        "print(\"Bonferroni joint confidence interval for beta0: \", \n",
        "      \"\\n{} <= beta1 <= {}\".format(b1-(B_statics*s_b1), b1+(B_statics*s_b1)),\n",
        "      \"\\n\\nBonferroni joint confidence interval for beta0: \", \n",
        "      \"\\n{} <= beta3 <= {}\".format(b3-(B_statics*s_b3), b3+(B_statics*s_b3)))"
      ],
      "execution_count": 23,
      "outputs": [
        {
          "output_type": "stream",
          "text": [
            "Bonferroni joint confidence interval for beta0:  \n",
            "-5.646079984724967e-05 <= beta1 <= 0.0016306215635241029 \n",
            "\n",
            "Bonferroni joint confidence interval for beta0:  \n",
            "478.6096487395398 <= beta3 <= 768.4993127368011\n"
          ],
          "name": "stdout"
        }
      ]
    },
    {
      "cell_type": "markdown",
      "metadata": {
        "id": "IoIeAgeNPxJi",
        "colab_type": "text"
      },
      "source": [
        "Part(c). \n",
        "\n",
        "R_Squared: 0.6883341607166356 means The model is somewhat less descriptive of the data."
      ]
    },
    {
      "cell_type": "code",
      "metadata": {
        "id": "s0NZNIf3PjsD",
        "colab_type": "code",
        "colab": {
          "base_uri": "https://localhost:8080/",
          "height": 34
        },
        "outputId": "bae4ddc9-1faf-41e0-c705-5a0f1aa09486"
      },
      "source": [
        "print(\"R_Squared: {}\".format(results.rsquared))"
      ],
      "execution_count": 24,
      "outputs": [
        {
          "output_type": "stream",
          "text": [
            "R_Squared: 0.6883341607166356\n"
          ],
          "name": "stdout"
        }
      ]
    },
    {
      "cell_type": "markdown",
      "metadata": {
        "id": "lhVhbJ6XQSPm",
        "colab_type": "text"
      },
      "source": [
        "# ***Q6. 13***"
      ]
    },
    {
      "cell_type": "code",
      "metadata": {
        "id": "csAa41t184_k",
        "colab_type": "code",
        "colab": {}
      },
      "source": [
        "x_pred = [[1, 230000, 7.5, 0],\n",
        "          [1, 250000, 7.3, 0],\n",
        "          [1, 280000, 7.1, 0],\n",
        "          [1, 340000, 6.9, 0]]"
      ],
      "execution_count": 0,
      "outputs": []
    },
    {
      "cell_type": "code",
      "metadata": {
        "id": "o7YSy1Ui9mV-",
        "colab_type": "code",
        "colab": {
          "base_uri": "https://localhost:8080/",
          "height": 173
        },
        "outputId": "ae0b5cd1-d969-452d-99d5-75dcef705567"
      },
      "source": [
        "df_pred = results.get_prediction(x_pred).summary_frame(alpha=0.05)\n",
        "df_pred"
      ],
      "execution_count": 26,
      "outputs": [
        {
          "output_type": "execute_result",
          "data": {
            "text/html": [
              "<div>\n",
              "<style scoped>\n",
              "    .dataframe tbody tr th:only-of-type {\n",
              "        vertical-align: middle;\n",
              "    }\n",
              "\n",
              "    .dataframe tbody tr th {\n",
              "        vertical-align: top;\n",
              "    }\n",
              "\n",
              "    .dataframe thead th {\n",
              "        text-align: right;\n",
              "    }\n",
              "</style>\n",
              "<table border=\"1\" class=\"dataframe\">\n",
              "  <thead>\n",
              "    <tr style=\"text-align: right;\">\n",
              "      <th></th>\n",
              "      <th>mean</th>\n",
              "      <th>mean_se</th>\n",
              "      <th>mean_ci_lower</th>\n",
              "      <th>mean_ci_upper</th>\n",
              "      <th>obs_ci_lower</th>\n",
              "      <th>obs_ci_upper</th>\n",
              "    </tr>\n",
              "  </thead>\n",
              "  <tbody>\n",
              "    <tr>\n",
              "      <th>0</th>\n",
              "      <td>4232.170556</td>\n",
              "      <td>34.085608</td>\n",
              "      <td>4163.636849</td>\n",
              "      <td>4300.704263</td>\n",
              "      <td>3936.028570</td>\n",
              "      <td>4528.312541</td>\n",
              "    </tr>\n",
              "    <tr>\n",
              "      <th>1</th>\n",
              "      <td>4250.545367</td>\n",
              "      <td>28.302250</td>\n",
              "      <td>4193.639879</td>\n",
              "      <td>4307.450856</td>\n",
              "      <td>3956.876436</td>\n",
              "      <td>4544.214299</td>\n",
              "    </tr>\n",
              "    <tr>\n",
              "      <th>2</th>\n",
              "      <td>4276.790983</td>\n",
              "      <td>23.064511</td>\n",
              "      <td>4230.416675</td>\n",
              "      <td>4323.165290</td>\n",
              "      <td>3984.979772</td>\n",
              "      <td>4568.602194</td>\n",
              "    </tr>\n",
              "    <tr>\n",
              "      <th>3</th>\n",
              "      <td>4326.649009</td>\n",
              "      <td>27.636050</td>\n",
              "      <td>4271.083006</td>\n",
              "      <td>4382.215013</td>\n",
              "      <td>4033.236693</td>\n",
              "      <td>4620.061326</td>\n",
              "    </tr>\n",
              "  </tbody>\n",
              "</table>\n",
              "</div>"
            ],
            "text/plain": [
              "          mean    mean_se  ...  obs_ci_lower  obs_ci_upper\n",
              "0  4232.170556  34.085608  ...   3936.028570   4528.312541\n",
              "1  4250.545367  28.302250  ...   3956.876436   4544.214299\n",
              "2  4276.790983  23.064511  ...   3984.979772   4568.602194\n",
              "3  4326.649009  27.636050  ...   4033.236693   4620.061326\n",
              "\n",
              "[4 rows x 6 columns]"
            ]
          },
          "metadata": {
            "tags": []
          },
          "execution_count": 26
        }
      ]
    },
    {
      "cell_type": "code",
      "metadata": {
        "id": "PUHsKUIP9qwt",
        "colab_type": "code",
        "colab": {
          "base_uri": "https://localhost:8080/",
          "height": 51
        },
        "outputId": "30253e37-5259-4c5c-dbd9-6c44be5920e0"
      },
      "source": [
        "B_statics = scipy.stats.t.ppf(q=1-0.05/8, df=48)\n",
        "F_statics = scipy.stats.f.ppf(q=0.95, dfn = 4, dfd =48)\n",
        "S_statics = math.sqrt(4*F_statics)\n",
        "\n",
        "print(\"Bonferroni: {}, \\nScheffe: {}\".format(B_statics, S_statics))"
      ],
      "execution_count": 27,
      "outputs": [
        {
          "output_type": "stream",
          "text": [
            "Bonferroni: 2.595322726383781, \n",
            "Scheffe: 3.203273643308694\n"
          ],
          "name": "stdout"
        }
      ]
    },
    {
      "cell_type": "code",
      "metadata": {
        "id": "O7rze3y9-77U",
        "colab_type": "code",
        "colab": {
          "base_uri": "https://localhost:8080/",
          "height": 221
        },
        "outputId": "2074cf5d-01f8-422b-bf33-cf0776e9ec87"
      },
      "source": [
        "mse = sum(results.resid**2)/48\n",
        "\n",
        "for i in range(4):\n",
        "  Y_hat_new = df_pred.iloc[i, 0]\n",
        "\n",
        "  s_pred = math.sqrt(mse + df_pred.iloc[i, 1]**2)\n",
        "\n",
        "  print(\"Bonferroni Procedure: \", \"\\n{} <= Y_hat_new <= {}\\n\".format(Y_hat_new-B_statics*s_pred, Y_hat_new+B_statics*s_pred))"
      ],
      "execution_count": 28,
      "outputs": [
        {
          "output_type": "stream",
          "text": [
            "Bonferroni Procedure:  \n",
            "3849.9111606739584 <= Y_hat_new <= 4614.429951080046\n",
            "\n",
            "Bonferroni Procedure:  \n",
            "3871.4781849654128 <= Y_hat_new <= 4629.612549736964\n",
            "\n",
            "Bonferroni Procedure:  \n",
            "3900.1217410934437 <= Y_hat_new <= 4653.460224194072\n",
            "\n",
            "Bonferroni Procedure:  \n",
            "3947.9130650614734 <= Y_hat_new <= 4705.384953721488\n",
            "\n"
          ],
          "name": "stdout"
        }
      ]
    }
  ]
}