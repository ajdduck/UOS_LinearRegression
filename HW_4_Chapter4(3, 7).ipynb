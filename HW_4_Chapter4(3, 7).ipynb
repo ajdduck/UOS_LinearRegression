{
  "nbformat": 4,
  "nbformat_minor": 0,
  "metadata": {
    "colab": {
      "name": "HW#4_Chapter4(3, 7)",
      "provenance": [],
      "mount_file_id": "1HoMct2MYqIy7E7Xc5xRt2f7kwBC29qE7",
      "authorship_tag": "ABX9TyOb6YwHK0M6j/+p0aED2kFP",
      "include_colab_link": true
    },
    "kernelspec": {
      "name": "python3",
      "display_name": "Python 3"
    }
  },
  "cells": [
    {
      "cell_type": "markdown",
      "metadata": {
        "id": "view-in-github",
        "colab_type": "text"
      },
      "source": [
        "<a href=\"https://colab.research.google.com/github/ajdduck/UOS_LinearRegression/blob/master/HW_4_Chapter4(3%2C%207).ipynb\" target=\"_parent\"><img src=\"https://colab.research.google.com/assets/colab-badge.svg\" alt=\"Open In Colab\"/></a>"
      ]
    },
    {
      "cell_type": "code",
      "metadata": {
        "id": "Nn5ruD7oA92J",
        "colab_type": "code",
        "outputId": "878d9539-0067-414f-8ad6-e7051852ccb9",
        "colab": {
          "base_uri": "https://localhost:8080/",
          "height": 71
        }
      },
      "source": [
        "import statsmodels.api as sm\n",
        "import statsmodels.formula.api as smf\n",
        "import pandas as pd\n",
        "import matplotlib.pyplot as plt\n",
        "import scipy.stats\n",
        "import math"
      ],
      "execution_count": 1,
      "outputs": [
        {
          "output_type": "stream",
          "text": [
            "/usr/local/lib/python3.6/dist-packages/statsmodels/tools/_testing.py:19: FutureWarning: pandas.util.testing is deprecated. Use the functions in the public API at pandas.testing instead.\n",
            "  import pandas.util.testing as tm\n"
          ],
          "name": "stderr"
        }
      ]
    },
    {
      "cell_type": "code",
      "metadata": {
        "id": "T4UB1kWxEESi",
        "colab_type": "code",
        "colab": {}
      },
      "source": [
        "df = pd.read_csv(\"/content/drive/My Drive/CH01PR20.txt\", names=['Y', 'X'])"
      ],
      "execution_count": 0,
      "outputs": []
    },
    {
      "cell_type": "code",
      "metadata": {
        "id": "CbY8My9cEZvh",
        "colab_type": "code",
        "outputId": "225b72d8-2443-4902-ac02-3eccb44ca1f8",
        "colab": {
          "base_uri": "https://localhost:8080/",
          "height": 204
        }
      },
      "source": [
        "df.head()"
      ],
      "execution_count": 3,
      "outputs": [
        {
          "output_type": "execute_result",
          "data": {
            "text/html": [
              "<div>\n",
              "<style scoped>\n",
              "    .dataframe tbody tr th:only-of-type {\n",
              "        vertical-align: middle;\n",
              "    }\n",
              "\n",
              "    .dataframe tbody tr th {\n",
              "        vertical-align: top;\n",
              "    }\n",
              "\n",
              "    .dataframe thead th {\n",
              "        text-align: right;\n",
              "    }\n",
              "</style>\n",
              "<table border=\"1\" class=\"dataframe\">\n",
              "  <thead>\n",
              "    <tr style=\"text-align: right;\">\n",
              "      <th></th>\n",
              "      <th>Y</th>\n",
              "      <th>X</th>\n",
              "    </tr>\n",
              "  </thead>\n",
              "  <tbody>\n",
              "    <tr>\n",
              "      <th>0</th>\n",
              "      <td>20</td>\n",
              "      <td>2</td>\n",
              "    </tr>\n",
              "    <tr>\n",
              "      <th>1</th>\n",
              "      <td>60</td>\n",
              "      <td>4</td>\n",
              "    </tr>\n",
              "    <tr>\n",
              "      <th>2</th>\n",
              "      <td>46</td>\n",
              "      <td>3</td>\n",
              "    </tr>\n",
              "    <tr>\n",
              "      <th>3</th>\n",
              "      <td>41</td>\n",
              "      <td>2</td>\n",
              "    </tr>\n",
              "    <tr>\n",
              "      <th>4</th>\n",
              "      <td>12</td>\n",
              "      <td>1</td>\n",
              "    </tr>\n",
              "  </tbody>\n",
              "</table>\n",
              "</div>"
            ],
            "text/plain": [
              "    Y  X\n",
              "0  20  2\n",
              "1  60  4\n",
              "2  46  3\n",
              "3  41  2\n",
              "4  12  1"
            ]
          },
          "metadata": {
            "tags": []
          },
          "execution_count": 3
        }
      ]
    },
    {
      "cell_type": "code",
      "metadata": {
        "id": "PzSwDOuJEayh",
        "colab_type": "code",
        "colab": {}
      },
      "source": [
        "y = df['Y']\n",
        "X = df['X']\n",
        "\n",
        "X = sm.add_constant(X)\n",
        "\n",
        "model = sm.OLS(y, X)\n",
        "results = model.fit()"
      ],
      "execution_count": 0,
      "outputs": []
    },
    {
      "cell_type": "code",
      "metadata": {
        "id": "Z0pEXFAKF3uw",
        "colab_type": "code",
        "outputId": "1973d79c-7cff-4f0e-e5c7-15e60cfed7ce",
        "colab": {
          "base_uri": "https://localhost:8080/",
          "height": 444
        }
      },
      "source": [
        "results.summary()"
      ],
      "execution_count": 16,
      "outputs": [
        {
          "output_type": "execute_result",
          "data": {
            "text/html": [
              "<table class=\"simpletable\">\n",
              "<caption>OLS Regression Results</caption>\n",
              "<tr>\n",
              "  <th>Dep. Variable:</th>            <td>Y</td>        <th>  R-squared:         </th> <td>   0.957</td>\n",
              "</tr>\n",
              "<tr>\n",
              "  <th>Model:</th>                   <td>OLS</td>       <th>  Adj. R-squared:    </th> <td>   0.957</td>\n",
              "</tr>\n",
              "<tr>\n",
              "  <th>Method:</th>             <td>Least Squares</td>  <th>  F-statistic:       </th> <td>   968.7</td>\n",
              "</tr>\n",
              "<tr>\n",
              "  <th>Date:</th>             <td>Tue, 02 Jun 2020</td> <th>  Prob (F-statistic):</th> <td>4.01e-31</td>\n",
              "</tr>\n",
              "<tr>\n",
              "  <th>Time:</th>                 <td>09:14:34</td>     <th>  Log-Likelihood:    </th> <td> -161.27</td>\n",
              "</tr>\n",
              "<tr>\n",
              "  <th>No. Observations:</th>      <td>    45</td>      <th>  AIC:               </th> <td>   326.5</td>\n",
              "</tr>\n",
              "<tr>\n",
              "  <th>Df Residuals:</th>          <td>    43</td>      <th>  BIC:               </th> <td>   330.2</td>\n",
              "</tr>\n",
              "<tr>\n",
              "  <th>Df Model:</th>              <td>     1</td>      <th>                     </th>     <td> </td>   \n",
              "</tr>\n",
              "<tr>\n",
              "  <th>Covariance Type:</th>      <td>nonrobust</td>    <th>                     </th>     <td> </td>   \n",
              "</tr>\n",
              "</table>\n",
              "<table class=\"simpletable\">\n",
              "<tr>\n",
              "    <td></td>       <th>coef</th>     <th>std err</th>      <th>t</th>      <th>P>|t|</th>  <th>[0.025</th>    <th>0.975]</th>  \n",
              "</tr>\n",
              "<tr>\n",
              "  <th>const</th> <td>   -0.5802</td> <td>    2.804</td> <td>   -0.207</td> <td> 0.837</td> <td>   -6.235</td> <td>    5.075</td>\n",
              "</tr>\n",
              "<tr>\n",
              "  <th>X</th>     <td>   15.0352</td> <td>    0.483</td> <td>   31.123</td> <td> 0.000</td> <td>   14.061</td> <td>   16.009</td>\n",
              "</tr>\n",
              "</table>\n",
              "<table class=\"simpletable\">\n",
              "<tr>\n",
              "  <th>Omnibus:</th>       <td> 1.399</td> <th>  Durbin-Watson:     </th> <td>   2.402</td>\n",
              "</tr>\n",
              "<tr>\n",
              "  <th>Prob(Omnibus):</th> <td> 0.497</td> <th>  Jarque-Bera (JB):  </th> <td>   1.167</td>\n",
              "</tr>\n",
              "<tr>\n",
              "  <th>Skew:</th>          <td>-0.388</td> <th>  Prob(JB):          </th> <td>   0.558</td>\n",
              "</tr>\n",
              "<tr>\n",
              "  <th>Kurtosis:</th>      <td> 2.853</td> <th>  Cond. No.          </th> <td>    12.5</td>\n",
              "</tr>\n",
              "</table><br/><br/>Warnings:<br/>[1] Standard Errors assume that the covariance matrix of the errors is correctly specified."
            ],
            "text/plain": [
              "<class 'statsmodels.iolib.summary.Summary'>\n",
              "\"\"\"\n",
              "                            OLS Regression Results                            \n",
              "==============================================================================\n",
              "Dep. Variable:                      Y   R-squared:                       0.957\n",
              "Model:                            OLS   Adj. R-squared:                  0.957\n",
              "Method:                 Least Squares   F-statistic:                     968.7\n",
              "Date:                Tue, 02 Jun 2020   Prob (F-statistic):           4.01e-31\n",
              "Time:                        09:14:34   Log-Likelihood:                -161.27\n",
              "No. Observations:                  45   AIC:                             326.5\n",
              "Df Residuals:                      43   BIC:                             330.2\n",
              "Df Model:                           1                                         \n",
              "Covariance Type:            nonrobust                                         \n",
              "==============================================================================\n",
              "                 coef    std err          t      P>|t|      [0.025      0.975]\n",
              "------------------------------------------------------------------------------\n",
              "const         -0.5802      2.804     -0.207      0.837      -6.235       5.075\n",
              "X             15.0352      0.483     31.123      0.000      14.061      16.009\n",
              "==============================================================================\n",
              "Omnibus:                        1.399   Durbin-Watson:                   2.402\n",
              "Prob(Omnibus):                  0.497   Jarque-Bera (JB):                1.167\n",
              "Skew:                          -0.388   Prob(JB):                        0.558\n",
              "Kurtosis:                       2.853   Cond. No.                         12.5\n",
              "==============================================================================\n",
              "\n",
              "Warnings:\n",
              "[1] Standard Errors assume that the covariance matrix of the errors is correctly specified.\n",
              "\"\"\""
            ]
          },
          "metadata": {
            "tags": []
          },
          "execution_count": 16
        }
      ]
    },
    {
      "cell_type": "markdown",
      "metadata": {
        "id": "S3HLvzcuR5qB",
        "colab_type": "text"
      },
      "source": [
        "# ***Q4.3***\n",
        "\n",
        "Part(a). Opposite Directions.\n",
        "\n",
        "Part(b). Bonferroni Procedure\n",
        "\n",
        "Bonferroni joint confidence interval for beta0:  \n",
        "\n",
        "-7.092778823567503 <= beta0 <= 5.932465507640597\n",
        "\n",
        "Bonferroni joint confidence interval for beta1: \n",
        "\n",
        "13.91342332494708 <= beta1 <= 16.157072758603825\n",
        "\n",
        "\n",
        "The results show that we are 95% confident that all the 2 CIs contain beta1 and beta3.\n",
        "\n",
        "Part(c). Yes."
      ]
    },
    {
      "cell_type": "code",
      "metadata": {
        "id": "xUtL4DKfXxTd",
        "colab_type": "code",
        "colab": {}
      },
      "source": [
        "B_statics = scipy.stats.t.ppf(q=1-0.05/4, df = 43)"
      ],
      "execution_count": 0,
      "outputs": []
    },
    {
      "cell_type": "code",
      "metadata": {
        "id": "rX9mYZYIX1f5",
        "colab_type": "code",
        "colab": {}
      },
      "source": [
        "s_b0 = 2.804\n",
        "s_b1 = 0.483\n",
        "\n",
        "b0 = results.params[0]\n",
        "b1 = results.params[1]"
      ],
      "execution_count": 0,
      "outputs": []
    },
    {
      "cell_type": "code",
      "metadata": {
        "id": "2euGj7isZ9Ke",
        "colab_type": "code",
        "outputId": "7d8f6b66-099e-4bca-f4da-8d84321fca46",
        "colab": {
          "base_uri": "https://localhost:8080/",
          "height": 51
        }
      },
      "source": [
        "print(\"Bonferroni joint confidence interval for beta0: \", \n",
        "      \"\\n{} <= beta0 <= {}\".format(b0-(B_statics*s_b0), b0+(B_statics*s_b0)))"
      ],
      "execution_count": 19,
      "outputs": [
        {
          "output_type": "stream",
          "text": [
            "Bonferroni joint confidence interval for beta0:  \n",
            "-7.092778823567503 <= beta0 <= 5.932465507640597\n"
          ],
          "name": "stdout"
        }
      ]
    },
    {
      "cell_type": "code",
      "metadata": {
        "id": "1uXk9EDQaz0X",
        "colab_type": "code",
        "outputId": "5504f947-4d21-4ae8-a338-3ae88b336e06",
        "colab": {
          "base_uri": "https://localhost:8080/",
          "height": 51
        }
      },
      "source": [
        "print(\"Bonferroni joint confidence interval for beta1: \", \n",
        "      \"\\n{} <= beta1 <= {}\".format(b1-(B_statics*s_b1), b1+(B_statics*s_b1)))"
      ],
      "execution_count": 20,
      "outputs": [
        {
          "output_type": "stream",
          "text": [
            "Bonferroni joint confidence interval for beta1:  \n",
            "13.91342332494708 <= beta1 <= 16.157072758603825\n"
          ],
          "name": "stdout"
        }
      ]
    },
    {
      "cell_type": "markdown",
      "metadata": {
        "id": "nRjNUS-NSXtx",
        "colab_type": "text"
      },
      "source": [
        "# **Q4.7**\n",
        "\n",
        "Part(a)"
      ]
    },
    {
      "cell_type": "code",
      "metadata": {
        "id": "Chj3Llt2TE7E",
        "colab_type": "code",
        "colab": {}
      },
      "source": [
        "x_pred = [[1, 3], [1, 4], [1, 5], [1,7]]"
      ],
      "execution_count": 0,
      "outputs": []
    },
    {
      "cell_type": "code",
      "metadata": {
        "id": "tjMf6v-TTUon",
        "colab_type": "code",
        "colab": {
          "base_uri": "https://localhost:8080/",
          "height": 173
        },
        "outputId": "ac8e8b15-f8b6-4fed-a886-195d83c8e832"
      },
      "source": [
        "df_pred = results.get_prediction(x_pred).summary_frame(alpha=0.1)\n",
        "df_pred"
      ],
      "execution_count": 23,
      "outputs": [
        {
          "output_type": "execute_result",
          "data": {
            "text/html": [
              "<div>\n",
              "<style scoped>\n",
              "    .dataframe tbody tr th:only-of-type {\n",
              "        vertical-align: middle;\n",
              "    }\n",
              "\n",
              "    .dataframe tbody tr th {\n",
              "        vertical-align: top;\n",
              "    }\n",
              "\n",
              "    .dataframe thead th {\n",
              "        text-align: right;\n",
              "    }\n",
              "</style>\n",
              "<table border=\"1\" class=\"dataframe\">\n",
              "  <thead>\n",
              "    <tr style=\"text-align: right;\">\n",
              "      <th></th>\n",
              "      <th>mean</th>\n",
              "      <th>mean_se</th>\n",
              "      <th>mean_ci_lower</th>\n",
              "      <th>mean_ci_upper</th>\n",
              "      <th>obs_ci_lower</th>\n",
              "      <th>obs_ci_upper</th>\n",
              "    </tr>\n",
              "  </thead>\n",
              "  <tbody>\n",
              "    <tr>\n",
              "      <th>0</th>\n",
              "      <td>44.525587</td>\n",
              "      <td>1.675012</td>\n",
              "      <td>41.709774</td>\n",
              "      <td>47.341401</td>\n",
              "      <td>29.279074</td>\n",
              "      <td>59.772101</td>\n",
              "    </tr>\n",
              "    <tr>\n",
              "      <th>1</th>\n",
              "      <td>59.560836</td>\n",
              "      <td>1.433068</td>\n",
              "      <td>57.151746</td>\n",
              "      <td>61.969925</td>\n",
              "      <td>44.384173</td>\n",
              "      <td>74.737498</td>\n",
              "    </tr>\n",
              "    <tr>\n",
              "      <th>2</th>\n",
              "      <td>74.596084</td>\n",
              "      <td>1.329831</td>\n",
              "      <td>72.360544</td>\n",
              "      <td>76.831624</td>\n",
              "      <td>59.446001</td>\n",
              "      <td>89.746166</td>\n",
              "    </tr>\n",
              "    <tr>\n",
              "      <th>3</th>\n",
              "      <td>104.666580</td>\n",
              "      <td>1.611900</td>\n",
              "      <td>101.956861</td>\n",
              "      <td>107.376298</td>\n",
              "      <td>89.439303</td>\n",
              "      <td>119.893856</td>\n",
              "    </tr>\n",
              "  </tbody>\n",
              "</table>\n",
              "</div>"
            ],
            "text/plain": [
              "         mean   mean_se  ...  obs_ci_lower  obs_ci_upper\n",
              "0   44.525587  1.675012  ...     29.279074     59.772101\n",
              "1   59.560836  1.433068  ...     44.384173     74.737498\n",
              "2   74.596084  1.329831  ...     59.446001     89.746166\n",
              "3  104.666580  1.611900  ...     89.439303    119.893856\n",
              "\n",
              "[4 rows x 6 columns]"
            ]
          },
          "metadata": {
            "tags": []
          },
          "execution_count": 23
        }
      ]
    },
    {
      "cell_type": "code",
      "metadata": {
        "id": "hJRnEuhUUEUz",
        "colab_type": "code",
        "colab": {}
      },
      "source": [
        "F_statics= scipy.stats.f.ppf(q = 0.9, dfn = 2, dfd=43)\n",
        "W = math.sqrt(2*F_statics)"
      ],
      "execution_count": 0,
      "outputs": []
    },
    {
      "cell_type": "code",
      "metadata": {
        "id": "g8vLVyKoUVX4",
        "colab_type": "code",
        "colab": {
          "base_uri": "https://localhost:8080/",
          "height": 204
        },
        "outputId": "cca40f64-045c-4feb-f1bc-f6dd78308b4a"
      },
      "source": [
        "print(\"When Xh = 3, 5, 7\\n\")\n",
        "\n",
        "for i in [0, 2, 3]:\n",
        "  \n",
        "  Y_h_hat = df_pred.iloc[i,0]\n",
        "\n",
        "  s_h_hat = df_pred.iloc[i,1]\n",
        "\n",
        "  print(\"Working Hotelling interval: \", \"\\n{} <= Y_h_hat <= {}\\n\".format(Y_h_hat-W*s_h_hat,Y_h_hat+W*s_h_hat))"
      ],
      "execution_count": 32,
      "outputs": [
        {
          "output_type": "stream",
          "text": [
            "When Xh = 3, 5, 7\n",
            "\n",
            "Working Hotelling interval:  \n",
            "40.832645919167526 <= Y_h_hat <= 48.218529015558296\n",
            "\n",
            "Working Hotelling interval:  \n",
            "71.66417114835382 <= Y_h_hat <= 77.52799595347379\n",
            "\n",
            "Working Hotelling interval:  \n",
            "101.11278224435269 <= Y_h_hat <= 108.22037702457676\n",
            "\n"
          ],
          "name": "stdout"
        }
      ]
    },
    {
      "cell_type": "markdown",
      "metadata": {
        "id": "UoYU5T63YMZb",
        "colab_type": "text"
      },
      "source": [
        "Part(b) & (c).\n",
        "\n",
        "Given that results, Bonferroni provide tighter prediction limits."
      ]
    },
    {
      "cell_type": "code",
      "metadata": {
        "id": "m4s4mxy2WM0r",
        "colab_type": "code",
        "colab": {}
      },
      "source": [
        "t_cri_val = scipy.stats.t.ppf(q = 0.9, df = 43)\n",
        "B_statics = scipy.stats.t.ppf(q=1-0.1/4, df = 43)\n",
        "\n",
        "F_cri_val = scipy.stats.f.ppf(q=0.9, dfn = 2, dfd = 43)\n",
        "Sche_statics = math.sqrt(2*F_cri_val)\n",
        "\n",
        "mse = sum(results.resid**2)/43"
      ],
      "execution_count": 0,
      "outputs": []
    },
    {
      "cell_type": "code",
      "metadata": {
        "id": "NI_QfkPyWUEj",
        "colab_type": "code",
        "colab": {
          "base_uri": "https://localhost:8080/",
          "height": 289
        },
        "outputId": "77158bc4-2eab-4505-9462-0ba3ef37582b"
      },
      "source": [
        "print(\"When Xh = 4, 7\\n\")\n",
        "for i in [1, 3]:\n",
        "  \n",
        "  Y_hat_new = df_pred.iloc[i,0]\n",
        "  s_pred= math.sqrt(mse + (df_pred.iloc[i,1])**2)\n",
        "\n",
        "  print(\"Bonferroni Procedure: \", \"\\n{} <= Y_h_hat <= {}\\n\".format(Y_hat_new-B_statics*s_pred, Y_hat_new+B_statics*s_pred))\n",
        "  print(\"Scheffe Procedure: \", \"\\n{} <= Y_h_hat <= {}\\n\\n\".format(Y_hat_new-Sche_statics*s_pred, Y_hat_new+Sche_statics*s_pred))"
      ],
      "execution_count": 38,
      "outputs": [
        {
          "output_type": "stream",
          "text": [
            "When Xh = 4, 7\n",
            "\n",
            "Bonferroni Procedure:  \n",
            "41.35419097517001 <= Y_h_hat <= 77.76748004310672\n",
            "\n",
            "Scheffe Procedure:  \n",
            "39.656631643863406 <= Y_h_hat <= 79.46503937441332\n",
            "\n",
            "\n",
            "Bonferroni Procedure:  \n",
            "86.39921623938223 <= Y_h_hat <= 122.93394302954722\n",
            "\n",
            "Scheffe Procedure:  \n",
            "84.69599557552868 <= Y_h_hat <= 124.63716369340077\n",
            "\n",
            "\n"
          ],
          "name": "stdout"
        }
      ]
    },
    {
      "cell_type": "code",
      "metadata": {
        "id": "YtLcECBP-yKp",
        "colab_type": "code",
        "colab": {}
      },
      "source": [
        ""
      ],
      "execution_count": 0,
      "outputs": []
    }
  ]
}